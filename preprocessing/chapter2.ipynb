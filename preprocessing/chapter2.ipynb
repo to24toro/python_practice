{
 "metadata": {
  "language_info": {
   "codemirror_mode": {
    "name": "ipython",
    "version": 3
   },
   "file_extension": ".py",
   "mimetype": "text/x-python",
   "name": "python",
   "nbconvert_exporter": "python",
   "pygments_lexer": "ipython3",
   "version": "3.9.4"
  },
  "orig_nbformat": 2,
  "kernelspec": {
   "name": "python394jvsc74a57bd03c85ce8d5b7e180214ae83dea4d679439631f19c08b22e937e77ad215cbb97c9",
   "display_name": "Python 3.9.4 64-bit"
  },
  "metadata": {
   "interpreter": {
    "hash": "3c85ce8d5b7e180214ae83dea4d679439631f19c08b22e937e77ad215cbb97c9"
   }
  }
 },
 "nbformat": 4,
 "nbformat_minor": 2,
 "cells": [
  {
   "cell_type": "code",
   "execution_count": 1,
   "metadata": {},
   "outputs": [],
   "source": [
    "import pandas as pd\n",
    "import numpy as np"
   ]
  },
  {
   "cell_type": "code",
   "execution_count": 2,
   "metadata": {},
   "outputs": [],
   "source": [
    "reserve_tb = pd.read_csv(\"../awesomebook/data/reserve.csv\")"
   ]
  },
  {
   "cell_type": "code",
   "execution_count": 3,
   "metadata": {},
   "outputs": [
    {
     "output_type": "execute_result",
     "data": {
      "text/plain": [
       "     reserve_id hotel_id customer_id     reserve_datetime checkin_date  \\\n",
       "0            r1     h_75         c_1  2016-03-06 13:09:42   2016-03-26   \n",
       "1            r2    h_219         c_1  2016-07-16 23:39:55   2016-07-20   \n",
       "2            r3    h_179         c_1  2016-09-24 10:03:17   2016-10-19   \n",
       "3            r4    h_214         c_1  2017-03-08 03:20:10   2017-03-29   \n",
       "4            r5     h_16         c_1  2017-09-05 19:50:37   2017-09-22   \n",
       "...         ...      ...         ...                  ...          ...   \n",
       "4025      r4026    h_129       c_999  2017-06-27 23:00:02   2017-07-10   \n",
       "4026      r4027     h_97       c_999  2017-09-29 05:24:57   2017-10-09   \n",
       "4027      r4028     h_27       c_999  2018-03-14 05:01:45   2018-04-02   \n",
       "4028      r4029     h_48      c_1000  2016-04-16 15:20:17   2016-05-10   \n",
       "4029      r4030    h_117      c_1000  2016-06-06 08:16:51   2016-07-06   \n",
       "\n",
       "     checkin_time checkout_date  \n",
       "0        10:00:00    2016-03-29  \n",
       "1        11:30:00    2016-07-21  \n",
       "2        09:00:00    2016-10-22  \n",
       "3        11:00:00    2017-03-30  \n",
       "4        10:30:00    2017-09-23  \n",
       "...           ...           ...  \n",
       "4025     09:30:00    2017-07-11  \n",
       "4026     10:30:00    2017-10-10  \n",
       "4027     11:30:00    2018-04-04  \n",
       "4028     09:30:00    2016-05-13  \n",
       "4029     09:00:00    2016-07-09  \n",
       "\n",
       "[4030 rows x 7 columns]"
      ],
      "text/html": "<div>\n<style scoped>\n    .dataframe tbody tr th:only-of-type {\n        vertical-align: middle;\n    }\n\n    .dataframe tbody tr th {\n        vertical-align: top;\n    }\n\n    .dataframe thead th {\n        text-align: right;\n    }\n</style>\n<table border=\"1\" class=\"dataframe\">\n  <thead>\n    <tr style=\"text-align: right;\">\n      <th></th>\n      <th>reserve_id</th>\n      <th>hotel_id</th>\n      <th>customer_id</th>\n      <th>reserve_datetime</th>\n      <th>checkin_date</th>\n      <th>checkin_time</th>\n      <th>checkout_date</th>\n    </tr>\n  </thead>\n  <tbody>\n    <tr>\n      <th>0</th>\n      <td>r1</td>\n      <td>h_75</td>\n      <td>c_1</td>\n      <td>2016-03-06 13:09:42</td>\n      <td>2016-03-26</td>\n      <td>10:00:00</td>\n      <td>2016-03-29</td>\n    </tr>\n    <tr>\n      <th>1</th>\n      <td>r2</td>\n      <td>h_219</td>\n      <td>c_1</td>\n      <td>2016-07-16 23:39:55</td>\n      <td>2016-07-20</td>\n      <td>11:30:00</td>\n      <td>2016-07-21</td>\n    </tr>\n    <tr>\n      <th>2</th>\n      <td>r3</td>\n      <td>h_179</td>\n      <td>c_1</td>\n      <td>2016-09-24 10:03:17</td>\n      <td>2016-10-19</td>\n      <td>09:00:00</td>\n      <td>2016-10-22</td>\n    </tr>\n    <tr>\n      <th>3</th>\n      <td>r4</td>\n      <td>h_214</td>\n      <td>c_1</td>\n      <td>2017-03-08 03:20:10</td>\n      <td>2017-03-29</td>\n      <td>11:00:00</td>\n      <td>2017-03-30</td>\n    </tr>\n    <tr>\n      <th>4</th>\n      <td>r5</td>\n      <td>h_16</td>\n      <td>c_1</td>\n      <td>2017-09-05 19:50:37</td>\n      <td>2017-09-22</td>\n      <td>10:30:00</td>\n      <td>2017-09-23</td>\n    </tr>\n    <tr>\n      <th>...</th>\n      <td>...</td>\n      <td>...</td>\n      <td>...</td>\n      <td>...</td>\n      <td>...</td>\n      <td>...</td>\n      <td>...</td>\n    </tr>\n    <tr>\n      <th>4025</th>\n      <td>r4026</td>\n      <td>h_129</td>\n      <td>c_999</td>\n      <td>2017-06-27 23:00:02</td>\n      <td>2017-07-10</td>\n      <td>09:30:00</td>\n      <td>2017-07-11</td>\n    </tr>\n    <tr>\n      <th>4026</th>\n      <td>r4027</td>\n      <td>h_97</td>\n      <td>c_999</td>\n      <td>2017-09-29 05:24:57</td>\n      <td>2017-10-09</td>\n      <td>10:30:00</td>\n      <td>2017-10-10</td>\n    </tr>\n    <tr>\n      <th>4027</th>\n      <td>r4028</td>\n      <td>h_27</td>\n      <td>c_999</td>\n      <td>2018-03-14 05:01:45</td>\n      <td>2018-04-02</td>\n      <td>11:30:00</td>\n      <td>2018-04-04</td>\n    </tr>\n    <tr>\n      <th>4028</th>\n      <td>r4029</td>\n      <td>h_48</td>\n      <td>c_1000</td>\n      <td>2016-04-16 15:20:17</td>\n      <td>2016-05-10</td>\n      <td>09:30:00</td>\n      <td>2016-05-13</td>\n    </tr>\n    <tr>\n      <th>4029</th>\n      <td>r4030</td>\n      <td>h_117</td>\n      <td>c_1000</td>\n      <td>2016-06-06 08:16:51</td>\n      <td>2016-07-06</td>\n      <td>09:00:00</td>\n      <td>2016-07-09</td>\n    </tr>\n  </tbody>\n</table>\n<p>4030 rows × 7 columns</p>\n</div>"
     },
     "metadata": {},
     "execution_count": 3
    }
   ],
   "source": [
    "reserve_tb.loc[:,[\"reserve_id\",\"hotel_id\",\"customer_id\",\"reserve_datetime\",\"checkin_date\",\"checkin_time\",\"checkout_date\"]]"
   ]
  },
  {
   "cell_type": "code",
   "execution_count": 6,
   "metadata": {},
   "outputs": [
    {
     "output_type": "execute_result",
     "data": {
      "text/plain": [
       "     reserve_id hotel_id customer_id     reserve_datetime checkin_date  \\\n",
       "284        r285    h_121        c_67  2016-09-27 06:13:19   2016-10-12   \n",
       "347        r348    h_161        c_82  2016-09-22 22:29:52   2016-10-10   \n",
       "513        r514     h_74       c_120  2016-10-06 03:12:04   2016-10-11   \n",
       "587        r588    h_263       c_143  2016-09-25 20:07:03   2016-10-11   \n",
       "1065      r1066    h_205       c_261  2016-09-14 02:57:59   2016-10-11   \n",
       "1254      r1255    h_148       c_305  2016-09-12 15:32:03   2016-10-11   \n",
       "1480      r1481    h_116       c_364  2016-09-17 17:45:39   2016-10-11   \n",
       "1546      r1547    h_149       c_377  2016-09-27 08:19:24   2016-10-10   \n",
       "1709      r1710     h_59       c_422  2016-09-19 04:17:25   2016-10-10   \n",
       "1867      r1868    h_298       c_462  2016-10-07 20:47:32   2016-10-11   \n",
       "1890      r1891    h_134       c_467  2016-09-24 06:44:31   2016-10-10   \n",
       "1932      r1933    h_113       c_477  2016-09-24 09:04:26   2016-10-12   \n",
       "1986      r1987    h_116       c_499  2016-09-18 04:33:29   2016-10-09   \n",
       "2058      r2059      h_9       c_517  2016-09-19 15:32:35   2016-10-11   \n",
       "2115      r2116     h_77       c_527  2016-10-05 00:44:09   2016-10-11   \n",
       "2170      r2171    h_177       c_540  2016-09-28 01:21:26   2016-10-11   \n",
       "2203      r2204     h_82       c_549  2016-09-27 01:47:57   2016-10-10   \n",
       "2290      r2291    h_230       c_574  2016-10-09 04:34:14   2016-10-12   \n",
       "2496      r2497    h_273       c_624  2016-09-21 06:32:11   2016-10-09   \n",
       "2523      r2524    h_203       c_631  2016-09-14 10:45:15   2016-10-12   \n",
       "2555      r2556    h_193       c_639  2016-09-11 17:36:25   2016-10-11   \n",
       "2734      r2735    h_178       c_690  2016-10-11 14:06:11   2016-10-11   \n",
       "3010      r3011    h_156       c_761  2016-10-09 08:22:07   2016-10-11   \n",
       "3027      r3028     h_88       c_765  2016-09-14 09:47:18   2016-10-09   \n",
       "3136      r3137    h_218       c_792  2016-09-20 02:15:43   2016-10-10   \n",
       "3303      r3304    h_271       c_829  2016-09-17 06:33:49   2016-10-09   \n",
       "3327      r3328     h_23       c_833  2016-09-28 08:22:57   2016-10-13   \n",
       "3605      r3606    h_147       c_900  2016-09-28 19:13:15   2016-10-10   \n",
       "3650      r3651    h_133       c_909  2016-09-21 23:05:37   2016-10-10   \n",
       "3770      r3771     h_93       c_939  2016-09-27 05:50:26   2016-10-10   \n",
       "3968      r3969    h_104       c_986  2016-09-21 16:53:22   2016-10-11   \n",
       "\n",
       "     checkin_time checkout_date  people_num  total_price  \n",
       "284      12:00:00    2016-10-14           4       184000  \n",
       "347      10:30:00    2016-10-12           2       178400  \n",
       "513      12:30:00    2016-10-14           2        28800  \n",
       "587      09:00:00    2016-10-12           4        91600  \n",
       "1065     10:00:00    2016-10-14           4        85200  \n",
       "1254     11:30:00    2016-10-12           4        39200  \n",
       "1480     11:30:00    2016-10-13           4       107200  \n",
       "1546     11:00:00    2016-10-13           2       153600  \n",
       "1709     12:00:00    2016-10-13           2       148800  \n",
       "1867     10:30:00    2016-10-12           3        29400  \n",
       "1890     12:00:00    2016-10-12           4       540800  \n",
       "1932     11:30:00    2016-10-13           4        77200  \n",
       "1986     11:00:00    2016-10-12           3       120600  \n",
       "2058     12:30:00    2016-10-13           3       188400  \n",
       "2115     09:00:00    2016-10-13           4       353600  \n",
       "2170     10:00:00    2016-10-13           4       560800  \n",
       "2203     12:00:00    2016-10-13           2        76200  \n",
       "2290     12:00:00    2016-10-13           1        17400  \n",
       "2496     09:00:00    2016-10-12           2       269400  \n",
       "2523     10:30:00    2016-10-14           3       167400  \n",
       "2555     10:30:00    2016-10-14           4       702000  \n",
       "2734     09:00:00    2016-10-14           3       189000  \n",
       "3010     11:30:00    2016-10-14           3       165600  \n",
       "3027     09:30:00    2016-10-12           1        72900  \n",
       "3136     10:30:00    2016-10-13           1        63000  \n",
       "3303     11:30:00    2016-10-12           1        26100  \n",
       "3327     09:00:00    2016-10-14           4       260400  \n",
       "3605     12:00:00    2016-10-13           2        80400  \n",
       "3650     11:00:00    2016-10-12           4       100800  \n",
       "3770     12:30:00    2016-10-13           1        29400  \n",
       "3968     12:30:00    2016-10-12           3       126600  "
      ],
      "text/html": "<div>\n<style scoped>\n    .dataframe tbody tr th:only-of-type {\n        vertical-align: middle;\n    }\n\n    .dataframe tbody tr th {\n        vertical-align: top;\n    }\n\n    .dataframe thead th {\n        text-align: right;\n    }\n</style>\n<table border=\"1\" class=\"dataframe\">\n  <thead>\n    <tr style=\"text-align: right;\">\n      <th></th>\n      <th>reserve_id</th>\n      <th>hotel_id</th>\n      <th>customer_id</th>\n      <th>reserve_datetime</th>\n      <th>checkin_date</th>\n      <th>checkin_time</th>\n      <th>checkout_date</th>\n      <th>people_num</th>\n      <th>total_price</th>\n    </tr>\n  </thead>\n  <tbody>\n    <tr>\n      <th>284</th>\n      <td>r285</td>\n      <td>h_121</td>\n      <td>c_67</td>\n      <td>2016-09-27 06:13:19</td>\n      <td>2016-10-12</td>\n      <td>12:00:00</td>\n      <td>2016-10-14</td>\n      <td>4</td>\n      <td>184000</td>\n    </tr>\n    <tr>\n      <th>347</th>\n      <td>r348</td>\n      <td>h_161</td>\n      <td>c_82</td>\n      <td>2016-09-22 22:29:52</td>\n      <td>2016-10-10</td>\n      <td>10:30:00</td>\n      <td>2016-10-12</td>\n      <td>2</td>\n      <td>178400</td>\n    </tr>\n    <tr>\n      <th>513</th>\n      <td>r514</td>\n      <td>h_74</td>\n      <td>c_120</td>\n      <td>2016-10-06 03:12:04</td>\n      <td>2016-10-11</td>\n      <td>12:30:00</td>\n      <td>2016-10-14</td>\n      <td>2</td>\n      <td>28800</td>\n    </tr>\n    <tr>\n      <th>587</th>\n      <td>r588</td>\n      <td>h_263</td>\n      <td>c_143</td>\n      <td>2016-09-25 20:07:03</td>\n      <td>2016-10-11</td>\n      <td>09:00:00</td>\n      <td>2016-10-12</td>\n      <td>4</td>\n      <td>91600</td>\n    </tr>\n    <tr>\n      <th>1065</th>\n      <td>r1066</td>\n      <td>h_205</td>\n      <td>c_261</td>\n      <td>2016-09-14 02:57:59</td>\n      <td>2016-10-11</td>\n      <td>10:00:00</td>\n      <td>2016-10-14</td>\n      <td>4</td>\n      <td>85200</td>\n    </tr>\n    <tr>\n      <th>1254</th>\n      <td>r1255</td>\n      <td>h_148</td>\n      <td>c_305</td>\n      <td>2016-09-12 15:32:03</td>\n      <td>2016-10-11</td>\n      <td>11:30:00</td>\n      <td>2016-10-12</td>\n      <td>4</td>\n      <td>39200</td>\n    </tr>\n    <tr>\n      <th>1480</th>\n      <td>r1481</td>\n      <td>h_116</td>\n      <td>c_364</td>\n      <td>2016-09-17 17:45:39</td>\n      <td>2016-10-11</td>\n      <td>11:30:00</td>\n      <td>2016-10-13</td>\n      <td>4</td>\n      <td>107200</td>\n    </tr>\n    <tr>\n      <th>1546</th>\n      <td>r1547</td>\n      <td>h_149</td>\n      <td>c_377</td>\n      <td>2016-09-27 08:19:24</td>\n      <td>2016-10-10</td>\n      <td>11:00:00</td>\n      <td>2016-10-13</td>\n      <td>2</td>\n      <td>153600</td>\n    </tr>\n    <tr>\n      <th>1709</th>\n      <td>r1710</td>\n      <td>h_59</td>\n      <td>c_422</td>\n      <td>2016-09-19 04:17:25</td>\n      <td>2016-10-10</td>\n      <td>12:00:00</td>\n      <td>2016-10-13</td>\n      <td>2</td>\n      <td>148800</td>\n    </tr>\n    <tr>\n      <th>1867</th>\n      <td>r1868</td>\n      <td>h_298</td>\n      <td>c_462</td>\n      <td>2016-10-07 20:47:32</td>\n      <td>2016-10-11</td>\n      <td>10:30:00</td>\n      <td>2016-10-12</td>\n      <td>3</td>\n      <td>29400</td>\n    </tr>\n    <tr>\n      <th>1890</th>\n      <td>r1891</td>\n      <td>h_134</td>\n      <td>c_467</td>\n      <td>2016-09-24 06:44:31</td>\n      <td>2016-10-10</td>\n      <td>12:00:00</td>\n      <td>2016-10-12</td>\n      <td>4</td>\n      <td>540800</td>\n    </tr>\n    <tr>\n      <th>1932</th>\n      <td>r1933</td>\n      <td>h_113</td>\n      <td>c_477</td>\n      <td>2016-09-24 09:04:26</td>\n      <td>2016-10-12</td>\n      <td>11:30:00</td>\n      <td>2016-10-13</td>\n      <td>4</td>\n      <td>77200</td>\n    </tr>\n    <tr>\n      <th>1986</th>\n      <td>r1987</td>\n      <td>h_116</td>\n      <td>c_499</td>\n      <td>2016-09-18 04:33:29</td>\n      <td>2016-10-09</td>\n      <td>11:00:00</td>\n      <td>2016-10-12</td>\n      <td>3</td>\n      <td>120600</td>\n    </tr>\n    <tr>\n      <th>2058</th>\n      <td>r2059</td>\n      <td>h_9</td>\n      <td>c_517</td>\n      <td>2016-09-19 15:32:35</td>\n      <td>2016-10-11</td>\n      <td>12:30:00</td>\n      <td>2016-10-13</td>\n      <td>3</td>\n      <td>188400</td>\n    </tr>\n    <tr>\n      <th>2115</th>\n      <td>r2116</td>\n      <td>h_77</td>\n      <td>c_527</td>\n      <td>2016-10-05 00:44:09</td>\n      <td>2016-10-11</td>\n      <td>09:00:00</td>\n      <td>2016-10-13</td>\n      <td>4</td>\n      <td>353600</td>\n    </tr>\n    <tr>\n      <th>2170</th>\n      <td>r2171</td>\n      <td>h_177</td>\n      <td>c_540</td>\n      <td>2016-09-28 01:21:26</td>\n      <td>2016-10-11</td>\n      <td>10:00:00</td>\n      <td>2016-10-13</td>\n      <td>4</td>\n      <td>560800</td>\n    </tr>\n    <tr>\n      <th>2203</th>\n      <td>r2204</td>\n      <td>h_82</td>\n      <td>c_549</td>\n      <td>2016-09-27 01:47:57</td>\n      <td>2016-10-10</td>\n      <td>12:00:00</td>\n      <td>2016-10-13</td>\n      <td>2</td>\n      <td>76200</td>\n    </tr>\n    <tr>\n      <th>2290</th>\n      <td>r2291</td>\n      <td>h_230</td>\n      <td>c_574</td>\n      <td>2016-10-09 04:34:14</td>\n      <td>2016-10-12</td>\n      <td>12:00:00</td>\n      <td>2016-10-13</td>\n      <td>1</td>\n      <td>17400</td>\n    </tr>\n    <tr>\n      <th>2496</th>\n      <td>r2497</td>\n      <td>h_273</td>\n      <td>c_624</td>\n      <td>2016-09-21 06:32:11</td>\n      <td>2016-10-09</td>\n      <td>09:00:00</td>\n      <td>2016-10-12</td>\n      <td>2</td>\n      <td>269400</td>\n    </tr>\n    <tr>\n      <th>2523</th>\n      <td>r2524</td>\n      <td>h_203</td>\n      <td>c_631</td>\n      <td>2016-09-14 10:45:15</td>\n      <td>2016-10-12</td>\n      <td>10:30:00</td>\n      <td>2016-10-14</td>\n      <td>3</td>\n      <td>167400</td>\n    </tr>\n    <tr>\n      <th>2555</th>\n      <td>r2556</td>\n      <td>h_193</td>\n      <td>c_639</td>\n      <td>2016-09-11 17:36:25</td>\n      <td>2016-10-11</td>\n      <td>10:30:00</td>\n      <td>2016-10-14</td>\n      <td>4</td>\n      <td>702000</td>\n    </tr>\n    <tr>\n      <th>2734</th>\n      <td>r2735</td>\n      <td>h_178</td>\n      <td>c_690</td>\n      <td>2016-10-11 14:06:11</td>\n      <td>2016-10-11</td>\n      <td>09:00:00</td>\n      <td>2016-10-14</td>\n      <td>3</td>\n      <td>189000</td>\n    </tr>\n    <tr>\n      <th>3010</th>\n      <td>r3011</td>\n      <td>h_156</td>\n      <td>c_761</td>\n      <td>2016-10-09 08:22:07</td>\n      <td>2016-10-11</td>\n      <td>11:30:00</td>\n      <td>2016-10-14</td>\n      <td>3</td>\n      <td>165600</td>\n    </tr>\n    <tr>\n      <th>3027</th>\n      <td>r3028</td>\n      <td>h_88</td>\n      <td>c_765</td>\n      <td>2016-09-14 09:47:18</td>\n      <td>2016-10-09</td>\n      <td>09:30:00</td>\n      <td>2016-10-12</td>\n      <td>1</td>\n      <td>72900</td>\n    </tr>\n    <tr>\n      <th>3136</th>\n      <td>r3137</td>\n      <td>h_218</td>\n      <td>c_792</td>\n      <td>2016-09-20 02:15:43</td>\n      <td>2016-10-10</td>\n      <td>10:30:00</td>\n      <td>2016-10-13</td>\n      <td>1</td>\n      <td>63000</td>\n    </tr>\n    <tr>\n      <th>3303</th>\n      <td>r3304</td>\n      <td>h_271</td>\n      <td>c_829</td>\n      <td>2016-09-17 06:33:49</td>\n      <td>2016-10-09</td>\n      <td>11:30:00</td>\n      <td>2016-10-12</td>\n      <td>1</td>\n      <td>26100</td>\n    </tr>\n    <tr>\n      <th>3327</th>\n      <td>r3328</td>\n      <td>h_23</td>\n      <td>c_833</td>\n      <td>2016-09-28 08:22:57</td>\n      <td>2016-10-13</td>\n      <td>09:00:00</td>\n      <td>2016-10-14</td>\n      <td>4</td>\n      <td>260400</td>\n    </tr>\n    <tr>\n      <th>3605</th>\n      <td>r3606</td>\n      <td>h_147</td>\n      <td>c_900</td>\n      <td>2016-09-28 19:13:15</td>\n      <td>2016-10-10</td>\n      <td>12:00:00</td>\n      <td>2016-10-13</td>\n      <td>2</td>\n      <td>80400</td>\n    </tr>\n    <tr>\n      <th>3650</th>\n      <td>r3651</td>\n      <td>h_133</td>\n      <td>c_909</td>\n      <td>2016-09-21 23:05:37</td>\n      <td>2016-10-10</td>\n      <td>11:00:00</td>\n      <td>2016-10-12</td>\n      <td>4</td>\n      <td>100800</td>\n    </tr>\n    <tr>\n      <th>3770</th>\n      <td>r3771</td>\n      <td>h_93</td>\n      <td>c_939</td>\n      <td>2016-09-27 05:50:26</td>\n      <td>2016-10-10</td>\n      <td>12:30:00</td>\n      <td>2016-10-13</td>\n      <td>1</td>\n      <td>29400</td>\n    </tr>\n    <tr>\n      <th>3968</th>\n      <td>r3969</td>\n      <td>h_104</td>\n      <td>c_986</td>\n      <td>2016-09-21 16:53:22</td>\n      <td>2016-10-11</td>\n      <td>12:30:00</td>\n      <td>2016-10-12</td>\n      <td>3</td>\n      <td>126600</td>\n    </tr>\n  </tbody>\n</table>\n</div>"
     },
     "metadata": {},
     "execution_count": 6
    }
   ],
   "source": [
    "reserve_tb.query('\"2016-10-12\" <= checkout_date <= \"2016-10-14\"')"
   ]
  },
  {
   "cell_type": "code",
   "execution_count": 5,
   "metadata": {},
   "outputs": [
    {
     "output_type": "execute_result",
     "data": {
      "text/plain": [
       "reserve_id          object\n",
       "hotel_id            object\n",
       "customer_id         object\n",
       "reserve_datetime    object\n",
       "checkin_date        object\n",
       "checkin_time        object\n",
       "checkout_date       object\n",
       "people_num           int64\n",
       "total_price          int64\n",
       "dtype: object"
      ]
     },
     "metadata": {},
     "execution_count": 5
    }
   ],
   "source": [
    "reserve_tb.dtypes"
   ]
  },
  {
   "cell_type": "code",
   "execution_count": 7,
   "metadata": {},
   "outputs": [
    {
     "output_type": "execute_result",
     "data": {
      "text/plain": [
       "     reserve_id hotel_id customer_id     reserve_datetime checkin_date  \\\n",
       "1377      r1378      h_7       c_337  2017-08-25 10:33:45   2017-08-27   \n",
       "3467      r3468    h_166       c_864  2016-09-10 20:34:35   2016-10-02   \n",
       "3542      r3543    h_250       c_881  2016-04-20 09:58:53   2016-05-17   \n",
       "40          r41     h_23         c_7  2016-10-14 02:41:13   2016-10-15   \n",
       "1207      r1208     h_89       c_295  2016-11-01 17:01:27   2016-11-18   \n",
       "...         ...      ...         ...                  ...          ...   \n",
       "1785      r1786     h_52       c_442  2018-09-12 05:12:54   2018-09-18   \n",
       "2710      r2711    h_246       c_682  2017-12-12 19:13:17   2018-01-05   \n",
       "850        r851     h_29       c_206  2016-04-18 09:42:01   2016-05-10   \n",
       "3694      r3695    h_218       c_919  2017-02-20 16:45:17   2017-02-24   \n",
       "2070      r2071    h_151       c_519  2017-07-13 13:04:15   2017-07-15   \n",
       "\n",
       "     checkin_time checkout_date  people_num  total_price  \n",
       "1377     09:00:00    2017-08-29           4       151200  \n",
       "3467     09:00:00    2016-10-03           2        33200  \n",
       "3542     09:30:00    2016-05-19           2       103200  \n",
       "40       12:00:00    2016-10-16           2       130200  \n",
       "1207     12:00:00    2016-11-21           3        79200  \n",
       "...           ...           ...         ...          ...  \n",
       "1785     09:00:00    2018-09-21           1        81300  \n",
       "2710     11:00:00    2018-01-07           3       232800  \n",
       "850      10:00:00    2016-05-11           4        37200  \n",
       "3694     11:00:00    2017-02-27           4       252000  \n",
       "2070     09:30:00    2017-07-18           2       249000  \n",
       "\n",
       "[2015 rows x 9 columns]"
      ],
      "text/html": "<div>\n<style scoped>\n    .dataframe tbody tr th:only-of-type {\n        vertical-align: middle;\n    }\n\n    .dataframe tbody tr th {\n        vertical-align: top;\n    }\n\n    .dataframe thead th {\n        text-align: right;\n    }\n</style>\n<table border=\"1\" class=\"dataframe\">\n  <thead>\n    <tr style=\"text-align: right;\">\n      <th></th>\n      <th>reserve_id</th>\n      <th>hotel_id</th>\n      <th>customer_id</th>\n      <th>reserve_datetime</th>\n      <th>checkin_date</th>\n      <th>checkin_time</th>\n      <th>checkout_date</th>\n      <th>people_num</th>\n      <th>total_price</th>\n    </tr>\n  </thead>\n  <tbody>\n    <tr>\n      <th>1377</th>\n      <td>r1378</td>\n      <td>h_7</td>\n      <td>c_337</td>\n      <td>2017-08-25 10:33:45</td>\n      <td>2017-08-27</td>\n      <td>09:00:00</td>\n      <td>2017-08-29</td>\n      <td>4</td>\n      <td>151200</td>\n    </tr>\n    <tr>\n      <th>3467</th>\n      <td>r3468</td>\n      <td>h_166</td>\n      <td>c_864</td>\n      <td>2016-09-10 20:34:35</td>\n      <td>2016-10-02</td>\n      <td>09:00:00</td>\n      <td>2016-10-03</td>\n      <td>2</td>\n      <td>33200</td>\n    </tr>\n    <tr>\n      <th>3542</th>\n      <td>r3543</td>\n      <td>h_250</td>\n      <td>c_881</td>\n      <td>2016-04-20 09:58:53</td>\n      <td>2016-05-17</td>\n      <td>09:30:00</td>\n      <td>2016-05-19</td>\n      <td>2</td>\n      <td>103200</td>\n    </tr>\n    <tr>\n      <th>40</th>\n      <td>r41</td>\n      <td>h_23</td>\n      <td>c_7</td>\n      <td>2016-10-14 02:41:13</td>\n      <td>2016-10-15</td>\n      <td>12:00:00</td>\n      <td>2016-10-16</td>\n      <td>2</td>\n      <td>130200</td>\n    </tr>\n    <tr>\n      <th>1207</th>\n      <td>r1208</td>\n      <td>h_89</td>\n      <td>c_295</td>\n      <td>2016-11-01 17:01:27</td>\n      <td>2016-11-18</td>\n      <td>12:00:00</td>\n      <td>2016-11-21</td>\n      <td>3</td>\n      <td>79200</td>\n    </tr>\n    <tr>\n      <th>...</th>\n      <td>...</td>\n      <td>...</td>\n      <td>...</td>\n      <td>...</td>\n      <td>...</td>\n      <td>...</td>\n      <td>...</td>\n      <td>...</td>\n      <td>...</td>\n    </tr>\n    <tr>\n      <th>1785</th>\n      <td>r1786</td>\n      <td>h_52</td>\n      <td>c_442</td>\n      <td>2018-09-12 05:12:54</td>\n      <td>2018-09-18</td>\n      <td>09:00:00</td>\n      <td>2018-09-21</td>\n      <td>1</td>\n      <td>81300</td>\n    </tr>\n    <tr>\n      <th>2710</th>\n      <td>r2711</td>\n      <td>h_246</td>\n      <td>c_682</td>\n      <td>2017-12-12 19:13:17</td>\n      <td>2018-01-05</td>\n      <td>11:00:00</td>\n      <td>2018-01-07</td>\n      <td>3</td>\n      <td>232800</td>\n    </tr>\n    <tr>\n      <th>850</th>\n      <td>r851</td>\n      <td>h_29</td>\n      <td>c_206</td>\n      <td>2016-04-18 09:42:01</td>\n      <td>2016-05-10</td>\n      <td>10:00:00</td>\n      <td>2016-05-11</td>\n      <td>4</td>\n      <td>37200</td>\n    </tr>\n    <tr>\n      <th>3694</th>\n      <td>r3695</td>\n      <td>h_218</td>\n      <td>c_919</td>\n      <td>2017-02-20 16:45:17</td>\n      <td>2017-02-24</td>\n      <td>11:00:00</td>\n      <td>2017-02-27</td>\n      <td>4</td>\n      <td>252000</td>\n    </tr>\n    <tr>\n      <th>2070</th>\n      <td>r2071</td>\n      <td>h_151</td>\n      <td>c_519</td>\n      <td>2017-07-13 13:04:15</td>\n      <td>2017-07-15</td>\n      <td>09:30:00</td>\n      <td>2017-07-18</td>\n      <td>2</td>\n      <td>249000</td>\n    </tr>\n  </tbody>\n</table>\n<p>2015 rows × 9 columns</p>\n</div>"
     },
     "metadata": {},
     "execution_count": 7
    }
   ],
   "source": [
    "reserve_tb.sample(frac=0.5)"
   ]
  },
  {
   "cell_type": "code",
   "execution_count": 12,
   "metadata": {},
   "outputs": [
    {
     "output_type": "execute_result",
     "data": {
      "text/plain": [
       "     reserve_id hotel_id customer_id     reserve_datetime checkin_date  \\\n",
       "8            r9    h_217         c_2  2016-03-05 13:31:06   2016-03-25   \n",
       "9           r10    h_240         c_2  2016-06-25 09:12:22   2016-07-14   \n",
       "10          r11    h_183         c_2  2016-11-19 12:49:10   2016-12-08   \n",
       "11          r12    h_268         c_2  2017-05-24 10:06:21   2017-06-20   \n",
       "12          r13    h_223         c_2  2017-10-19 03:03:30   2017-10-21   \n",
       "...         ...      ...         ...                  ...          ...   \n",
       "3994      r3995    h_278       c_992  2016-11-30 23:07:57   2016-12-01   \n",
       "3995      r3996    h_208       c_992  2017-01-10 10:15:59   2017-01-15   \n",
       "3996      r3997    h_143       c_992  2017-02-23 09:24:00   2017-03-03   \n",
       "4028      r4029     h_48      c_1000  2016-04-16 15:20:17   2016-05-10   \n",
       "4029      r4030    h_117      c_1000  2016-06-06 08:16:51   2016-07-06   \n",
       "\n",
       "     checkin_time checkout_date  people_num  total_price  \n",
       "8        09:30:00    2016-03-27           3        68400  \n",
       "9        11:00:00    2016-07-17           4       320400  \n",
       "10       11:00:00    2016-12-11           1        29700  \n",
       "11       09:00:00    2017-06-21           4        81600  \n",
       "12       09:30:00    2017-10-23           1       137000  \n",
       "...           ...           ...         ...          ...  \n",
       "3994     12:00:00    2016-12-02           3        31800  \n",
       "3995     12:30:00    2017-01-17           4        71200  \n",
       "3996     09:00:00    2017-03-05           1        39600  \n",
       "4028     09:30:00    2016-05-13           4       540000  \n",
       "4029     09:00:00    2016-07-09           1        44100  \n",
       "\n",
       "[2009 rows x 9 columns]"
      ],
      "text/html": "<div>\n<style scoped>\n    .dataframe tbody tr th:only-of-type {\n        vertical-align: middle;\n    }\n\n    .dataframe tbody tr th {\n        vertical-align: top;\n    }\n\n    .dataframe thead th {\n        text-align: right;\n    }\n</style>\n<table border=\"1\" class=\"dataframe\">\n  <thead>\n    <tr style=\"text-align: right;\">\n      <th></th>\n      <th>reserve_id</th>\n      <th>hotel_id</th>\n      <th>customer_id</th>\n      <th>reserve_datetime</th>\n      <th>checkin_date</th>\n      <th>checkin_time</th>\n      <th>checkout_date</th>\n      <th>people_num</th>\n      <th>total_price</th>\n    </tr>\n  </thead>\n  <tbody>\n    <tr>\n      <th>8</th>\n      <td>r9</td>\n      <td>h_217</td>\n      <td>c_2</td>\n      <td>2016-03-05 13:31:06</td>\n      <td>2016-03-25</td>\n      <td>09:30:00</td>\n      <td>2016-03-27</td>\n      <td>3</td>\n      <td>68400</td>\n    </tr>\n    <tr>\n      <th>9</th>\n      <td>r10</td>\n      <td>h_240</td>\n      <td>c_2</td>\n      <td>2016-06-25 09:12:22</td>\n      <td>2016-07-14</td>\n      <td>11:00:00</td>\n      <td>2016-07-17</td>\n      <td>4</td>\n      <td>320400</td>\n    </tr>\n    <tr>\n      <th>10</th>\n      <td>r11</td>\n      <td>h_183</td>\n      <td>c_2</td>\n      <td>2016-11-19 12:49:10</td>\n      <td>2016-12-08</td>\n      <td>11:00:00</td>\n      <td>2016-12-11</td>\n      <td>1</td>\n      <td>29700</td>\n    </tr>\n    <tr>\n      <th>11</th>\n      <td>r12</td>\n      <td>h_268</td>\n      <td>c_2</td>\n      <td>2017-05-24 10:06:21</td>\n      <td>2017-06-20</td>\n      <td>09:00:00</td>\n      <td>2017-06-21</td>\n      <td>4</td>\n      <td>81600</td>\n    </tr>\n    <tr>\n      <th>12</th>\n      <td>r13</td>\n      <td>h_223</td>\n      <td>c_2</td>\n      <td>2017-10-19 03:03:30</td>\n      <td>2017-10-21</td>\n      <td>09:30:00</td>\n      <td>2017-10-23</td>\n      <td>1</td>\n      <td>137000</td>\n    </tr>\n    <tr>\n      <th>...</th>\n      <td>...</td>\n      <td>...</td>\n      <td>...</td>\n      <td>...</td>\n      <td>...</td>\n      <td>...</td>\n      <td>...</td>\n      <td>...</td>\n      <td>...</td>\n    </tr>\n    <tr>\n      <th>3994</th>\n      <td>r3995</td>\n      <td>h_278</td>\n      <td>c_992</td>\n      <td>2016-11-30 23:07:57</td>\n      <td>2016-12-01</td>\n      <td>12:00:00</td>\n      <td>2016-12-02</td>\n      <td>3</td>\n      <td>31800</td>\n    </tr>\n    <tr>\n      <th>3995</th>\n      <td>r3996</td>\n      <td>h_208</td>\n      <td>c_992</td>\n      <td>2017-01-10 10:15:59</td>\n      <td>2017-01-15</td>\n      <td>12:30:00</td>\n      <td>2017-01-17</td>\n      <td>4</td>\n      <td>71200</td>\n    </tr>\n    <tr>\n      <th>3996</th>\n      <td>r3997</td>\n      <td>h_143</td>\n      <td>c_992</td>\n      <td>2017-02-23 09:24:00</td>\n      <td>2017-03-03</td>\n      <td>09:00:00</td>\n      <td>2017-03-05</td>\n      <td>1</td>\n      <td>39600</td>\n    </tr>\n    <tr>\n      <th>4028</th>\n      <td>r4029</td>\n      <td>h_48</td>\n      <td>c_1000</td>\n      <td>2016-04-16 15:20:17</td>\n      <td>2016-05-10</td>\n      <td>09:30:00</td>\n      <td>2016-05-13</td>\n      <td>4</td>\n      <td>540000</td>\n    </tr>\n    <tr>\n      <th>4029</th>\n      <td>r4030</td>\n      <td>h_117</td>\n      <td>c_1000</td>\n      <td>2016-06-06 08:16:51</td>\n      <td>2016-07-06</td>\n      <td>09:00:00</td>\n      <td>2016-07-09</td>\n      <td>1</td>\n      <td>44100</td>\n    </tr>\n  </tbody>\n</table>\n<p>2009 rows × 9 columns</p>\n</div>"
     },
     "metadata": {},
     "execution_count": 12
    }
   ],
   "source": [
    "target = pd.Series(reserve_tb['customer_id'].unique()).sample(frac=0.5)\n",
    "reserve_tb[reserve_tb['customer_id'].isin(target)]"
   ]
  },
  {
   "cell_type": "code",
   "execution_count": null,
   "metadata": {},
   "outputs": [],
   "source": []
  }
 ]
}