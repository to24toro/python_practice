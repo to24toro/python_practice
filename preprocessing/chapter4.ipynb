{
 "metadata": {
  "language_info": {
   "codemirror_mode": {
    "name": "ipython",
    "version": 3
   },
   "file_extension": ".py",
   "mimetype": "text/x-python",
   "name": "python",
   "nbconvert_exporter": "python",
   "pygments_lexer": "ipython3",
   "version": "3.9.4"
  },
  "orig_nbformat": 2,
  "kernelspec": {
   "name": "python394jvsc74a57bd03c85ce8d5b7e180214ae83dea4d679439631f19c08b22e937e77ad215cbb97c9",
   "display_name": "Python 3.9.4 64-bit"
  },
  "metadata": {
   "interpreter": {
    "hash": "3c85ce8d5b7e180214ae83dea4d679439631f19c08b22e937e77ad215cbb97c9"
   }
  }
 },
 "nbformat": 4,
 "nbformat_minor": 2,
 "cells": [
  {
   "cell_type": "code",
   "execution_count": 2,
   "metadata": {},
   "outputs": [],
   "source": [
    "import pandas as pd\n",
    "import numpy as np\n",
    "reserve_tb = pd.read_csv(\"../awesomebook/data/reserve.csv\")\n",
    "hotel_tb = pd.read_csv(\"../awesomebook/data/hotel.csv\")"
   ]
  },
  {
   "cell_type": "code",
   "execution_count": 3,
   "metadata": {},
   "outputs": [
    {
     "output_type": "execute_result",
     "data": {
      "text/plain": [
       "    reserve_id hotel_id customer_id     reserve_datetime checkin_date  \\\n",
       "0           r7    h_256         c_1  2017-12-29 10:38:36   2018-01-25   \n",
       "1         r997    h_256       c_244  2016-10-15 22:47:40   2016-10-31   \n",
       "2        r2602    h_256       c_650  2016-05-10 00:42:56   2016-05-12   \n",
       "3        r3738    h_256       c_930  2017-04-12 09:53:00   2017-05-08   \n",
       "4          r11    h_183         c_2  2016-11-19 12:49:10   2016-12-08   \n",
       "..         ...      ...         ...                  ...          ...   \n",
       "441      r2766     h_56       c_698  2017-04-08 16:41:45   2017-05-03   \n",
       "442      r2983     h_56       c_753  2016-06-18 23:17:50   2016-07-13   \n",
       "443      r2839    h_231       c_715  2016-04-06 02:51:01   2016-04-08   \n",
       "444      r3476     h_43       c_866  2016-09-17 21:09:02   2016-10-03   \n",
       "445      r3539    h_262       c_880  2016-11-06 08:55:35   2016-11-11   \n",
       "\n",
       "    checkin_time checkout_date  people_num  total_price  base_price  \\\n",
       "0       10:30:00    2018-01-28           1       103500       34500   \n",
       "1       10:30:00    2016-11-02           1        69000       34500   \n",
       "2       11:00:00    2016-05-14           1        69000       34500   \n",
       "3       11:30:00    2017-05-09           1        34500       34500   \n",
       "4       11:00:00    2016-12-11           1        29700        9900   \n",
       "..           ...           ...         ...          ...         ...   \n",
       "441     12:30:00    2017-05-06           1        95700       31900   \n",
       "442     10:00:00    2016-07-14           1        31900       31900   \n",
       "443     09:00:00    2016-04-10           1        29200       14600   \n",
       "444     09:30:00    2016-10-04           1        18100       18100   \n",
       "445     12:30:00    2016-11-14           1        57000       19000   \n",
       "\n",
       "    big_area_name small_area_name  hotel_latitude  hotel_longitude  \\\n",
       "0               C             C-1       38.237294       140.696131   \n",
       "1               C             C-1       38.237294       140.696131   \n",
       "2               C             C-1       38.237294       140.696131   \n",
       "3               C             C-1       38.237294       140.696131   \n",
       "4               G             G-4       33.595248       130.633567   \n",
       "..            ...             ...             ...              ...   \n",
       "441             C             C-3       38.435640       140.898354   \n",
       "442             C             C-3       38.435640       140.898354   \n",
       "443             A             A-3       35.914151       139.837520   \n",
       "444             B             B-1       35.437093       139.799077   \n",
       "445             C             C-3       38.434114       140.697486   \n",
       "\n",
       "     is_business  \n",
       "0           True  \n",
       "1           True  \n",
       "2           True  \n",
       "3           True  \n",
       "4           True  \n",
       "..           ...  \n",
       "441         True  \n",
       "442         True  \n",
       "443         True  \n",
       "444         True  \n",
       "445         True  \n",
       "\n",
       "[446 rows x 15 columns]"
      ],
      "text/html": "<div>\n<style scoped>\n    .dataframe tbody tr th:only-of-type {\n        vertical-align: middle;\n    }\n\n    .dataframe tbody tr th {\n        vertical-align: top;\n    }\n\n    .dataframe thead th {\n        text-align: right;\n    }\n</style>\n<table border=\"1\" class=\"dataframe\">\n  <thead>\n    <tr style=\"text-align: right;\">\n      <th></th>\n      <th>reserve_id</th>\n      <th>hotel_id</th>\n      <th>customer_id</th>\n      <th>reserve_datetime</th>\n      <th>checkin_date</th>\n      <th>checkin_time</th>\n      <th>checkout_date</th>\n      <th>people_num</th>\n      <th>total_price</th>\n      <th>base_price</th>\n      <th>big_area_name</th>\n      <th>small_area_name</th>\n      <th>hotel_latitude</th>\n      <th>hotel_longitude</th>\n      <th>is_business</th>\n    </tr>\n  </thead>\n  <tbody>\n    <tr>\n      <th>0</th>\n      <td>r7</td>\n      <td>h_256</td>\n      <td>c_1</td>\n      <td>2017-12-29 10:38:36</td>\n      <td>2018-01-25</td>\n      <td>10:30:00</td>\n      <td>2018-01-28</td>\n      <td>1</td>\n      <td>103500</td>\n      <td>34500</td>\n      <td>C</td>\n      <td>C-1</td>\n      <td>38.237294</td>\n      <td>140.696131</td>\n      <td>True</td>\n    </tr>\n    <tr>\n      <th>1</th>\n      <td>r997</td>\n      <td>h_256</td>\n      <td>c_244</td>\n      <td>2016-10-15 22:47:40</td>\n      <td>2016-10-31</td>\n      <td>10:30:00</td>\n      <td>2016-11-02</td>\n      <td>1</td>\n      <td>69000</td>\n      <td>34500</td>\n      <td>C</td>\n      <td>C-1</td>\n      <td>38.237294</td>\n      <td>140.696131</td>\n      <td>True</td>\n    </tr>\n    <tr>\n      <th>2</th>\n      <td>r2602</td>\n      <td>h_256</td>\n      <td>c_650</td>\n      <td>2016-05-10 00:42:56</td>\n      <td>2016-05-12</td>\n      <td>11:00:00</td>\n      <td>2016-05-14</td>\n      <td>1</td>\n      <td>69000</td>\n      <td>34500</td>\n      <td>C</td>\n      <td>C-1</td>\n      <td>38.237294</td>\n      <td>140.696131</td>\n      <td>True</td>\n    </tr>\n    <tr>\n      <th>3</th>\n      <td>r3738</td>\n      <td>h_256</td>\n      <td>c_930</td>\n      <td>2017-04-12 09:53:00</td>\n      <td>2017-05-08</td>\n      <td>11:30:00</td>\n      <td>2017-05-09</td>\n      <td>1</td>\n      <td>34500</td>\n      <td>34500</td>\n      <td>C</td>\n      <td>C-1</td>\n      <td>38.237294</td>\n      <td>140.696131</td>\n      <td>True</td>\n    </tr>\n    <tr>\n      <th>4</th>\n      <td>r11</td>\n      <td>h_183</td>\n      <td>c_2</td>\n      <td>2016-11-19 12:49:10</td>\n      <td>2016-12-08</td>\n      <td>11:00:00</td>\n      <td>2016-12-11</td>\n      <td>1</td>\n      <td>29700</td>\n      <td>9900</td>\n      <td>G</td>\n      <td>G-4</td>\n      <td>33.595248</td>\n      <td>130.633567</td>\n      <td>True</td>\n    </tr>\n    <tr>\n      <th>...</th>\n      <td>...</td>\n      <td>...</td>\n      <td>...</td>\n      <td>...</td>\n      <td>...</td>\n      <td>...</td>\n      <td>...</td>\n      <td>...</td>\n      <td>...</td>\n      <td>...</td>\n      <td>...</td>\n      <td>...</td>\n      <td>...</td>\n      <td>...</td>\n      <td>...</td>\n    </tr>\n    <tr>\n      <th>441</th>\n      <td>r2766</td>\n      <td>h_56</td>\n      <td>c_698</td>\n      <td>2017-04-08 16:41:45</td>\n      <td>2017-05-03</td>\n      <td>12:30:00</td>\n      <td>2017-05-06</td>\n      <td>1</td>\n      <td>95700</td>\n      <td>31900</td>\n      <td>C</td>\n      <td>C-3</td>\n      <td>38.435640</td>\n      <td>140.898354</td>\n      <td>True</td>\n    </tr>\n    <tr>\n      <th>442</th>\n      <td>r2983</td>\n      <td>h_56</td>\n      <td>c_753</td>\n      <td>2016-06-18 23:17:50</td>\n      <td>2016-07-13</td>\n      <td>10:00:00</td>\n      <td>2016-07-14</td>\n      <td>1</td>\n      <td>31900</td>\n      <td>31900</td>\n      <td>C</td>\n      <td>C-3</td>\n      <td>38.435640</td>\n      <td>140.898354</td>\n      <td>True</td>\n    </tr>\n    <tr>\n      <th>443</th>\n      <td>r2839</td>\n      <td>h_231</td>\n      <td>c_715</td>\n      <td>2016-04-06 02:51:01</td>\n      <td>2016-04-08</td>\n      <td>09:00:00</td>\n      <td>2016-04-10</td>\n      <td>1</td>\n      <td>29200</td>\n      <td>14600</td>\n      <td>A</td>\n      <td>A-3</td>\n      <td>35.914151</td>\n      <td>139.837520</td>\n      <td>True</td>\n    </tr>\n    <tr>\n      <th>444</th>\n      <td>r3476</td>\n      <td>h_43</td>\n      <td>c_866</td>\n      <td>2016-09-17 21:09:02</td>\n      <td>2016-10-03</td>\n      <td>09:30:00</td>\n      <td>2016-10-04</td>\n      <td>1</td>\n      <td>18100</td>\n      <td>18100</td>\n      <td>B</td>\n      <td>B-1</td>\n      <td>35.437093</td>\n      <td>139.799077</td>\n      <td>True</td>\n    </tr>\n    <tr>\n      <th>445</th>\n      <td>r3539</td>\n      <td>h_262</td>\n      <td>c_880</td>\n      <td>2016-11-06 08:55:35</td>\n      <td>2016-11-11</td>\n      <td>12:30:00</td>\n      <td>2016-11-14</td>\n      <td>1</td>\n      <td>57000</td>\n      <td>19000</td>\n      <td>C</td>\n      <td>C-3</td>\n      <td>38.434114</td>\n      <td>140.697486</td>\n      <td>True</td>\n    </tr>\n  </tbody>\n</table>\n<p>446 rows × 15 columns</p>\n</div>"
     },
     "metadata": {},
     "execution_count": 3
    }
   ],
   "source": [
    "pd.merge(reserve_tb.query('people_num==1'),hotel_tb.query('is_business'),on='hotel_id',how='inner')"
   ]
  },
  {
   "cell_type": "code",
   "execution_count": 12,
   "metadata": {},
   "outputs": [],
   "source": [
    "import gc\n",
    "small_area_mst = hotel_tb.groupby(['big_area_name','small_area_name'],as_index=True).size().reset_index()\n",
    "small_area_mst.columns = ['big_area_name','small_area_name','hotel_cnt']\n",
    "small_area_mst['join_area_id'] = np.where(small_area_mst['hotel_cnt']-1>=20,small_area_mst['small_area_name'],small_area_mst['big_area_name'])"
   ]
  },
  {
   "cell_type": "code",
   "execution_count": 14,
   "metadata": {},
   "outputs": [],
   "source": [
    "small_area_mst.drop(['hotel_cnt','big_area_name'],axis = 1,inplace=True)"
   ]
  },
  {
   "cell_type": "code",
   "execution_count": 15,
   "metadata": {},
   "outputs": [],
   "source": [
    "base_hotel_mst = pd.merge(hotel_tb,small_area_mst,on='small_area_name').loc[:,['hotel_id','join_area_id']]"
   ]
  },
  {
   "cell_type": "code",
   "execution_count": 16,
   "metadata": {},
   "outputs": [],
   "source": [
    "del small_area_mst"
   ]
  },
  {
   "cell_type": "code",
   "execution_count": 17,
   "metadata": {},
   "outputs": [
    {
     "output_type": "execute_result",
     "data": {
      "text/plain": [
       "53957"
      ]
     },
     "metadata": {},
     "execution_count": 17
    }
   ],
   "source": [
    "gc.collect()"
   ]
  },
  {
   "cell_type": "code",
   "execution_count": 21,
   "metadata": {},
   "outputs": [],
   "source": [
    "result = reserve_tb.groupby('customer_id').apply(lambda group:group.sort_values(by = 'reserve_datetime'))"
   ]
  },
  {
   "cell_type": "code",
   "execution_count": 22,
   "metadata": {},
   "outputs": [
    {
     "output_type": "execute_result",
     "data": {
      "text/plain": [
       "                 reserve_id hotel_id customer_id     reserve_datetime  \\\n",
       "customer_id                                                             \n",
       "c_1         0            r1     h_75         c_1  2016-03-06 13:09:42   \n",
       "            1            r2    h_219         c_1  2016-07-16 23:39:55   \n",
       "            2            r3    h_179         c_1  2016-09-24 10:03:17   \n",
       "            3            r4    h_214         c_1  2017-03-08 03:20:10   \n",
       "            4            r5     h_16         c_1  2017-09-05 19:50:37   \n",
       "...                     ...      ...         ...                  ...   \n",
       "c_999       4023      r4024    h_244       c_999  2016-10-06 18:01:34   \n",
       "            4024      r4025    h_160       c_999  2017-03-11 11:56:05   \n",
       "            4025      r4026    h_129       c_999  2017-06-27 23:00:02   \n",
       "            4026      r4027     h_97       c_999  2017-09-29 05:24:57   \n",
       "            4027      r4028     h_27       c_999  2018-03-14 05:01:45   \n",
       "\n",
       "                 checkin_date checkin_time checkout_date  people_num  \\\n",
       "customer_id                                                            \n",
       "c_1         0      2016-03-26     10:00:00    2016-03-29           4   \n",
       "            1      2016-07-20     11:30:00    2016-07-21           2   \n",
       "            2      2016-10-19     09:00:00    2016-10-22           2   \n",
       "            3      2017-03-29     11:00:00    2017-03-30           4   \n",
       "            4      2017-09-22     10:30:00    2017-09-23           3   \n",
       "...                       ...          ...           ...         ...   \n",
       "c_999       4023   2016-10-07     11:30:00    2016-10-09           3   \n",
       "            4024   2017-03-27     10:00:00    2017-03-30           1   \n",
       "            4025   2017-07-10     09:30:00    2017-07-11           2   \n",
       "            4026   2017-10-09     10:30:00    2017-10-10           2   \n",
       "            4027   2018-04-02     11:30:00    2018-04-04           2   \n",
       "\n",
       "                  total_price  \n",
       "customer_id                    \n",
       "c_1         0           97200  \n",
       "            1           20600  \n",
       "            2           33600  \n",
       "            3          194400  \n",
       "            4           68100  \n",
       "...                       ...  \n",
       "c_999       4023        59400  \n",
       "            4024        37200  \n",
       "            4025        16000  \n",
       "            4026        41800  \n",
       "            4027        74800  \n",
       "\n",
       "[4030 rows x 9 columns]"
      ],
      "text/html": "<div>\n<style scoped>\n    .dataframe tbody tr th:only-of-type {\n        vertical-align: middle;\n    }\n\n    .dataframe tbody tr th {\n        vertical-align: top;\n    }\n\n    .dataframe thead th {\n        text-align: right;\n    }\n</style>\n<table border=\"1\" class=\"dataframe\">\n  <thead>\n    <tr style=\"text-align: right;\">\n      <th></th>\n      <th></th>\n      <th>reserve_id</th>\n      <th>hotel_id</th>\n      <th>customer_id</th>\n      <th>reserve_datetime</th>\n      <th>checkin_date</th>\n      <th>checkin_time</th>\n      <th>checkout_date</th>\n      <th>people_num</th>\n      <th>total_price</th>\n    </tr>\n    <tr>\n      <th>customer_id</th>\n      <th></th>\n      <th></th>\n      <th></th>\n      <th></th>\n      <th></th>\n      <th></th>\n      <th></th>\n      <th></th>\n      <th></th>\n      <th></th>\n    </tr>\n  </thead>\n  <tbody>\n    <tr>\n      <th rowspan=\"5\" valign=\"top\">c_1</th>\n      <th>0</th>\n      <td>r1</td>\n      <td>h_75</td>\n      <td>c_1</td>\n      <td>2016-03-06 13:09:42</td>\n      <td>2016-03-26</td>\n      <td>10:00:00</td>\n      <td>2016-03-29</td>\n      <td>4</td>\n      <td>97200</td>\n    </tr>\n    <tr>\n      <th>1</th>\n      <td>r2</td>\n      <td>h_219</td>\n      <td>c_1</td>\n      <td>2016-07-16 23:39:55</td>\n      <td>2016-07-20</td>\n      <td>11:30:00</td>\n      <td>2016-07-21</td>\n      <td>2</td>\n      <td>20600</td>\n    </tr>\n    <tr>\n      <th>2</th>\n      <td>r3</td>\n      <td>h_179</td>\n      <td>c_1</td>\n      <td>2016-09-24 10:03:17</td>\n      <td>2016-10-19</td>\n      <td>09:00:00</td>\n      <td>2016-10-22</td>\n      <td>2</td>\n      <td>33600</td>\n    </tr>\n    <tr>\n      <th>3</th>\n      <td>r4</td>\n      <td>h_214</td>\n      <td>c_1</td>\n      <td>2017-03-08 03:20:10</td>\n      <td>2017-03-29</td>\n      <td>11:00:00</td>\n      <td>2017-03-30</td>\n      <td>4</td>\n      <td>194400</td>\n    </tr>\n    <tr>\n      <th>4</th>\n      <td>r5</td>\n      <td>h_16</td>\n      <td>c_1</td>\n      <td>2017-09-05 19:50:37</td>\n      <td>2017-09-22</td>\n      <td>10:30:00</td>\n      <td>2017-09-23</td>\n      <td>3</td>\n      <td>68100</td>\n    </tr>\n    <tr>\n      <th>...</th>\n      <th>...</th>\n      <td>...</td>\n      <td>...</td>\n      <td>...</td>\n      <td>...</td>\n      <td>...</td>\n      <td>...</td>\n      <td>...</td>\n      <td>...</td>\n      <td>...</td>\n    </tr>\n    <tr>\n      <th rowspan=\"5\" valign=\"top\">c_999</th>\n      <th>4023</th>\n      <td>r4024</td>\n      <td>h_244</td>\n      <td>c_999</td>\n      <td>2016-10-06 18:01:34</td>\n      <td>2016-10-07</td>\n      <td>11:30:00</td>\n      <td>2016-10-09</td>\n      <td>3</td>\n      <td>59400</td>\n    </tr>\n    <tr>\n      <th>4024</th>\n      <td>r4025</td>\n      <td>h_160</td>\n      <td>c_999</td>\n      <td>2017-03-11 11:56:05</td>\n      <td>2017-03-27</td>\n      <td>10:00:00</td>\n      <td>2017-03-30</td>\n      <td>1</td>\n      <td>37200</td>\n    </tr>\n    <tr>\n      <th>4025</th>\n      <td>r4026</td>\n      <td>h_129</td>\n      <td>c_999</td>\n      <td>2017-06-27 23:00:02</td>\n      <td>2017-07-10</td>\n      <td>09:30:00</td>\n      <td>2017-07-11</td>\n      <td>2</td>\n      <td>16000</td>\n    </tr>\n    <tr>\n      <th>4026</th>\n      <td>r4027</td>\n      <td>h_97</td>\n      <td>c_999</td>\n      <td>2017-09-29 05:24:57</td>\n      <td>2017-10-09</td>\n      <td>10:30:00</td>\n      <td>2017-10-10</td>\n      <td>2</td>\n      <td>41800</td>\n    </tr>\n    <tr>\n      <th>4027</th>\n      <td>r4028</td>\n      <td>h_27</td>\n      <td>c_999</td>\n      <td>2018-03-14 05:01:45</td>\n      <td>2018-04-02</td>\n      <td>11:30:00</td>\n      <td>2018-04-04</td>\n      <td>2</td>\n      <td>74800</td>\n    </tr>\n  </tbody>\n</table>\n<p>4030 rows × 9 columns</p>\n</div>"
     },
     "metadata": {},
     "execution_count": 22
    }
   ],
   "source": [
    "result"
   ]
  },
  {
   "cell_type": "code",
   "execution_count": 28,
   "metadata": {},
   "outputs": [],
   "source": [
    "result['before_price'] = result['total_price'].groupby('customer_id').shift(periods=2)"
   ]
  },
  {
   "cell_type": "code",
   "execution_count": 30,
   "metadata": {},
   "outputs": [
    {
     "output_type": "execute_result",
     "data": {
      "text/plain": [
       "customer_id      \n",
       "c_1          0        97200\n",
       "             1        20600\n",
       "             2        33600\n",
       "             3       194400\n",
       "             4        68100\n",
       "                      ...  \n",
       "c_999        4023     59400\n",
       "             4024     37200\n",
       "             4025     16000\n",
       "             4026     41800\n",
       "             4027     74800\n",
       "Name: total_price, Length: 4030, dtype: int64"
      ]
     },
     "metadata": {},
     "execution_count": 30
    }
   ],
   "source": [
    "result['total_price']"
   ]
  },
  {
   "cell_type": "code",
   "execution_count": null,
   "metadata": {},
   "outputs": [],
   "source": []
  }
 ]
}