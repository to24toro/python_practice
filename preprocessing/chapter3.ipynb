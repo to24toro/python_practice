{
 "metadata": {
  "language_info": {
   "codemirror_mode": {
    "name": "ipython",
    "version": 3
   },
   "file_extension": ".py",
   "mimetype": "text/x-python",
   "name": "python",
   "nbconvert_exporter": "python",
   "pygments_lexer": "ipython3",
   "version": "3.9.4"
  },
  "orig_nbformat": 2,
  "kernelspec": {
   "name": "python394jvsc74a57bd03c85ce8d5b7e180214ae83dea4d679439631f19c08b22e937e77ad215cbb97c9",
   "display_name": "Python 3.9.4 64-bit"
  },
  "metadata": {
   "interpreter": {
    "hash": "3c85ce8d5b7e180214ae83dea4d679439631f19c08b22e937e77ad215cbb97c9"
   }
  }
 },
 "nbformat": 4,
 "nbformat_minor": 2,
 "cells": [
  {
   "cell_type": "code",
   "execution_count": 35,
   "metadata": {},
   "outputs": [],
   "source": [
    "import pandas as pd\n",
    "import numpy as np\n",
    "reserve_tb = pd.read_csv(\"../awesomebook/data/reserve.csv\")"
   ]
  },
  {
   "cell_type": "code",
   "execution_count": 5,
   "metadata": {},
   "outputs": [],
   "source": [
    "result = reserve_tb.groupby('hotel_id').agg({'reserve_id':'count','customer_id':'nunique'})\n",
    "result.reset_index(inplace=True)\n",
    "result.columns = ['hotel_id','rsv_cnt','cus_cnt']"
   ]
  },
  {
   "cell_type": "code",
   "execution_count": 13,
   "metadata": {},
   "outputs": [],
   "source": [
    "result = reserve_tb.groupby(['hotel_id','people_num'])['total_price'].sum().reset_index()\n",
    "result.columns = ['hotel_id','people_num','price_sum']"
   ]
  },
  {
   "cell_type": "code",
   "execution_count": 14,
   "metadata": {},
   "outputs": [
    {
     "output_type": "execute_result",
     "data": {
      "text/plain": [
       "     hotel_id  people_num  price_sum\n",
       "0         h_1           1     156600\n",
       "1         h_1           2     156600\n",
       "2         h_1           3     391500\n",
       "3         h_1           4     417600\n",
       "4        h_10           1      11200\n",
       "...       ...         ...        ...\n",
       "1154     h_98           3     793800\n",
       "1155     h_98           4     453600\n",
       "1156     h_99           1     179200\n",
       "1157     h_99           2     448000\n",
       "1158     h_99           4    1164800\n",
       "\n",
       "[1159 rows x 3 columns]"
      ],
      "text/html": "<div>\n<style scoped>\n    .dataframe tbody tr th:only-of-type {\n        vertical-align: middle;\n    }\n\n    .dataframe tbody tr th {\n        vertical-align: top;\n    }\n\n    .dataframe thead th {\n        text-align: right;\n    }\n</style>\n<table border=\"1\" class=\"dataframe\">\n  <thead>\n    <tr style=\"text-align: right;\">\n      <th></th>\n      <th>hotel_id</th>\n      <th>people_num</th>\n      <th>price_sum</th>\n    </tr>\n  </thead>\n  <tbody>\n    <tr>\n      <th>0</th>\n      <td>h_1</td>\n      <td>1</td>\n      <td>156600</td>\n    </tr>\n    <tr>\n      <th>1</th>\n      <td>h_1</td>\n      <td>2</td>\n      <td>156600</td>\n    </tr>\n    <tr>\n      <th>2</th>\n      <td>h_1</td>\n      <td>3</td>\n      <td>391500</td>\n    </tr>\n    <tr>\n      <th>3</th>\n      <td>h_1</td>\n      <td>4</td>\n      <td>417600</td>\n    </tr>\n    <tr>\n      <th>4</th>\n      <td>h_10</td>\n      <td>1</td>\n      <td>11200</td>\n    </tr>\n    <tr>\n      <th>...</th>\n      <td>...</td>\n      <td>...</td>\n      <td>...</td>\n    </tr>\n    <tr>\n      <th>1154</th>\n      <td>h_98</td>\n      <td>3</td>\n      <td>793800</td>\n    </tr>\n    <tr>\n      <th>1155</th>\n      <td>h_98</td>\n      <td>4</td>\n      <td>453600</td>\n    </tr>\n    <tr>\n      <th>1156</th>\n      <td>h_99</td>\n      <td>1</td>\n      <td>179200</td>\n    </tr>\n    <tr>\n      <th>1157</th>\n      <td>h_99</td>\n      <td>2</td>\n      <td>448000</td>\n    </tr>\n    <tr>\n      <th>1158</th>\n      <td>h_99</td>\n      <td>4</td>\n      <td>1164800</td>\n    </tr>\n  </tbody>\n</table>\n<p>1159 rows × 3 columns</p>\n</div>"
     },
     "metadata": {},
     "execution_count": 14
    }
   ],
   "source": [
    "result"
   ]
  },
  {
   "cell_type": "code",
   "execution_count": 15,
   "metadata": {},
   "outputs": [],
   "source": [
    "result = reserve_tb.groupby('hotel_id').agg({'total_price':['max','min','mean','median',lambda x:np.percentile(x,q=20)]}).reset_index()\n",
    "result.columns = ['hotel_id','price_max','price_min','price_mean','price_median','price_20per']"
   ]
  },
  {
   "cell_type": "code",
   "execution_count": 16,
   "metadata": {},
   "outputs": [
    {
     "output_type": "execute_result",
     "data": {
      "text/plain": [
       "    hotel_id  price_max  price_min     price_mean  price_median  price_20per\n",
       "0        h_1     208800      26100  112230.000000        104400        73080\n",
       "1       h_10      67200      11200   42933.333333         50400        26880\n",
       "2      h_100      57600       4800   27600.000000         28800         9600\n",
       "3      h_101     168000      14000   75764.705882         56000        30800\n",
       "4      h_102      72000      12000   32769.230769         24000        18000\n",
       "..       ...        ...        ...            ...           ...          ...\n",
       "295     h_95     518400      43200  275815.384615        259200       146880\n",
       "296     h_96      66600       7400   33015.384615         29600        17760\n",
       "297     h_97     250800      20900   83600.000000         62700        20900\n",
       "298     h_98     226800      18900   96723.529412         75600        56700\n",
       "299     h_99     268800      44800  128000.000000         89600        67200\n",
       "\n",
       "[300 rows x 6 columns]"
      ],
      "text/html": "<div>\n<style scoped>\n    .dataframe tbody tr th:only-of-type {\n        vertical-align: middle;\n    }\n\n    .dataframe tbody tr th {\n        vertical-align: top;\n    }\n\n    .dataframe thead th {\n        text-align: right;\n    }\n</style>\n<table border=\"1\" class=\"dataframe\">\n  <thead>\n    <tr style=\"text-align: right;\">\n      <th></th>\n      <th>hotel_id</th>\n      <th>price_max</th>\n      <th>price_min</th>\n      <th>price_mean</th>\n      <th>price_median</th>\n      <th>price_20per</th>\n    </tr>\n  </thead>\n  <tbody>\n    <tr>\n      <th>0</th>\n      <td>h_1</td>\n      <td>208800</td>\n      <td>26100</td>\n      <td>112230.000000</td>\n      <td>104400</td>\n      <td>73080</td>\n    </tr>\n    <tr>\n      <th>1</th>\n      <td>h_10</td>\n      <td>67200</td>\n      <td>11200</td>\n      <td>42933.333333</td>\n      <td>50400</td>\n      <td>26880</td>\n    </tr>\n    <tr>\n      <th>2</th>\n      <td>h_100</td>\n      <td>57600</td>\n      <td>4800</td>\n      <td>27600.000000</td>\n      <td>28800</td>\n      <td>9600</td>\n    </tr>\n    <tr>\n      <th>3</th>\n      <td>h_101</td>\n      <td>168000</td>\n      <td>14000</td>\n      <td>75764.705882</td>\n      <td>56000</td>\n      <td>30800</td>\n    </tr>\n    <tr>\n      <th>4</th>\n      <td>h_102</td>\n      <td>72000</td>\n      <td>12000</td>\n      <td>32769.230769</td>\n      <td>24000</td>\n      <td>18000</td>\n    </tr>\n    <tr>\n      <th>...</th>\n      <td>...</td>\n      <td>...</td>\n      <td>...</td>\n      <td>...</td>\n      <td>...</td>\n      <td>...</td>\n    </tr>\n    <tr>\n      <th>295</th>\n      <td>h_95</td>\n      <td>518400</td>\n      <td>43200</td>\n      <td>275815.384615</td>\n      <td>259200</td>\n      <td>146880</td>\n    </tr>\n    <tr>\n      <th>296</th>\n      <td>h_96</td>\n      <td>66600</td>\n      <td>7400</td>\n      <td>33015.384615</td>\n      <td>29600</td>\n      <td>17760</td>\n    </tr>\n    <tr>\n      <th>297</th>\n      <td>h_97</td>\n      <td>250800</td>\n      <td>20900</td>\n      <td>83600.000000</td>\n      <td>62700</td>\n      <td>20900</td>\n    </tr>\n    <tr>\n      <th>298</th>\n      <td>h_98</td>\n      <td>226800</td>\n      <td>18900</td>\n      <td>96723.529412</td>\n      <td>75600</td>\n      <td>56700</td>\n    </tr>\n    <tr>\n      <th>299</th>\n      <td>h_99</td>\n      <td>268800</td>\n      <td>44800</td>\n      <td>128000.000000</td>\n      <td>89600</td>\n      <td>67200</td>\n    </tr>\n  </tbody>\n</table>\n<p>300 rows × 6 columns</p>\n</div>"
     },
     "metadata": {},
     "execution_count": 16
    }
   ],
   "source": [
    "result"
   ]
  },
  {
   "cell_type": "code",
   "execution_count": 24,
   "metadata": {},
   "outputs": [],
   "source": [
    "result = reserve_tb.groupby('hotel_id').agg({'total_price':['var','std']}).reset_index()\n",
    "result.columns = ['hotel_id','price_var','price_std']\n",
    "result.fillna(value = {'price_var':0,'price_std':0},inplace=True)"
   ]
  },
  {
   "cell_type": "code",
   "execution_count": 25,
   "metadata": {},
   "outputs": [
    {
     "output_type": "execute_result",
     "data": {
      "text/plain": [
       "    hotel_id     price_var      price_std\n",
       "0        h_1  3.186549e+09   56449.526127\n",
       "1       h_10  8.258133e+08   28736.968061\n",
       "2      h_100  3.198316e+08   17883.835689\n",
       "3      h_101  2.402441e+09   49014.703676\n",
       "4      h_102  3.576923e+08   18912.755159\n",
       "..       ...           ...            ...\n",
       "295     h_95  3.313772e+10  182037.696857\n",
       "296     h_96  3.159231e+08   17774.225072\n",
       "297     h_97  5.474685e+09   73991.116584\n",
       "298     h_98  3.432893e+09   58590.896578\n",
       "299     h_99  5.745428e+09   75798.599541\n",
       "\n",
       "[300 rows x 3 columns]"
      ],
      "text/html": "<div>\n<style scoped>\n    .dataframe tbody tr th:only-of-type {\n        vertical-align: middle;\n    }\n\n    .dataframe tbody tr th {\n        vertical-align: top;\n    }\n\n    .dataframe thead th {\n        text-align: right;\n    }\n</style>\n<table border=\"1\" class=\"dataframe\">\n  <thead>\n    <tr style=\"text-align: right;\">\n      <th></th>\n      <th>hotel_id</th>\n      <th>price_var</th>\n      <th>price_std</th>\n    </tr>\n  </thead>\n  <tbody>\n    <tr>\n      <th>0</th>\n      <td>h_1</td>\n      <td>3.186549e+09</td>\n      <td>56449.526127</td>\n    </tr>\n    <tr>\n      <th>1</th>\n      <td>h_10</td>\n      <td>8.258133e+08</td>\n      <td>28736.968061</td>\n    </tr>\n    <tr>\n      <th>2</th>\n      <td>h_100</td>\n      <td>3.198316e+08</td>\n      <td>17883.835689</td>\n    </tr>\n    <tr>\n      <th>3</th>\n      <td>h_101</td>\n      <td>2.402441e+09</td>\n      <td>49014.703676</td>\n    </tr>\n    <tr>\n      <th>4</th>\n      <td>h_102</td>\n      <td>3.576923e+08</td>\n      <td>18912.755159</td>\n    </tr>\n    <tr>\n      <th>...</th>\n      <td>...</td>\n      <td>...</td>\n      <td>...</td>\n    </tr>\n    <tr>\n      <th>295</th>\n      <td>h_95</td>\n      <td>3.313772e+10</td>\n      <td>182037.696857</td>\n    </tr>\n    <tr>\n      <th>296</th>\n      <td>h_96</td>\n      <td>3.159231e+08</td>\n      <td>17774.225072</td>\n    </tr>\n    <tr>\n      <th>297</th>\n      <td>h_97</td>\n      <td>5.474685e+09</td>\n      <td>73991.116584</td>\n    </tr>\n    <tr>\n      <th>298</th>\n      <td>h_98</td>\n      <td>3.432893e+09</td>\n      <td>58590.896578</td>\n    </tr>\n    <tr>\n      <th>299</th>\n      <td>h_99</td>\n      <td>5.745428e+09</td>\n      <td>75798.599541</td>\n    </tr>\n  </tbody>\n</table>\n<p>300 rows × 3 columns</p>\n</div>"
     },
     "metadata": {},
     "execution_count": 25
    }
   ],
   "source": [
    "result"
   ]
  },
  {
   "cell_type": "code",
   "execution_count": 26,
   "metadata": {},
   "outputs": [
    {
     "output_type": "execute_result",
     "data": {
      "text/plain": [
       "0    10000\n",
       "1    20000\n",
       "2    40000\n",
       "dtype: int64"
      ]
     },
     "metadata": {},
     "execution_count": 26
    }
   ],
   "source": [
    "reserve_tb['total_price'].round(-3).mode()"
   ]
  },
  {
   "cell_type": "code",
   "execution_count": 30,
   "metadata": {},
   "outputs": [],
   "source": [
    "reserve_tb['reserve_datetime'] = pd.to_datetime(reserve_tb['reserve_datetime'],format='%Y-%m-%d ')"
   ]
  },
  {
   "cell_type": "code",
   "execution_count": 33,
   "metadata": {},
   "outputs": [],
   "source": [
    "reserve_tb['log_no']  = reserve_tb.groupby('customer_id')['reserve_datetime'].rank(ascending=True,method = 'first')"
   ]
  },
  {
   "cell_type": "code",
   "execution_count": 38,
   "metadata": {},
   "outputs": [],
   "source": [
    "rsv_cnt_tb = reserve_tb.groupby('hotel_id').size().reset_index()\n",
    "rsv_cnt_tb.columns = ['hotel_id','rsv_cnt']"
   ]
  },
  {
   "cell_type": "code",
   "execution_count": 40,
   "metadata": {},
   "outputs": [],
   "source": [
    "rsv_cnt_tb['rsv_cnt_rank'] = rsv_cnt_tb['rsv_cnt'].rank(ascending=False,method='min')\n",
    "rsv_cnt_tb.drop('rsv_cnt',axis = 1,inplace=True)"
   ]
  },
  {
   "cell_type": "code",
   "execution_count": null,
   "metadata": {},
   "outputs": [],
   "source": []
  }
 ]
}