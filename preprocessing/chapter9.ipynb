{
 "metadata": {
  "language_info": {
   "codemirror_mode": {
    "name": "ipython",
    "version": 3
   },
   "file_extension": ".py",
   "mimetype": "text/x-python",
   "name": "python",
   "nbconvert_exporter": "python",
   "pygments_lexer": "ipython3",
   "version": "3.9.4"
  },
  "orig_nbformat": 2,
  "kernelspec": {
   "name": "python394jvsc74a57bd03c85ce8d5b7e180214ae83dea4d679439631f19c08b22e937e77ad215cbb97c9",
   "display_name": "Python 3.9.4 64-bit"
  },
  "metadata": {
   "interpreter": {
    "hash": "3c85ce8d5b7e180214ae83dea4d679439631f19c08b22e937e77ad215cbb97c9"
   }
  }
 },
 "nbformat": 4,
 "nbformat_minor": 2,
 "cells": [
  {
   "cell_type": "code",
   "execution_count": 5,
   "metadata": {},
   "outputs": [],
   "source": [
    "import pandas as pd\n",
    "import numpy as np\n",
    "from sklearn.model_selection import train_test_split\n",
    "from sklearn.model_selection import KFold\n",
    "reserve_tb = pd.read_csv(\"../awesomebook/data/reserve.csv\")\n",
    "production_tb = pd.read_csv(\"../awesomebook/data/production.csv\")\n",
    "customer_tb = pd.read_csv(\"../awesomebook/data/customer.csv\")"
   ]
  },
  {
   "cell_type": "code",
   "execution_count": 6,
   "metadata": {},
   "outputs": [],
   "source": [
    "reserve_tb['total_price_log'] = reserve_tb['total_price'].apply(lambda x: np.log10(x/1000+1))"
   ]
  },
  {
   "cell_type": "code",
   "execution_count": 7,
   "metadata": {},
   "outputs": [],
   "source": [
    "customer_tb['age_rank'] = customer_tb['age']//10*10"
   ]
  },
  {
   "cell_type": "code",
   "execution_count": 8,
   "metadata": {},
   "outputs": [
    {
     "output_type": "execute_result",
     "data": {
      "text/plain": [
       "    customer_id  age    sex  home_latitude  home_longitude  age_rank\n",
       "0           c_1   41    man      35.092193      136.512347        40\n",
       "1           c_2   38    man      35.325076      139.410551        30\n",
       "2           c_3   49  woman      35.120543      136.511179        40\n",
       "3           c_4   43    man      43.034868      141.240314        40\n",
       "4           c_5   31    man      35.102661      136.523797        30\n",
       "..          ...  ...    ...            ...             ...       ...\n",
       "995       c_996   44    man      34.465648      135.373787        40\n",
       "996       c_997   35    man      35.345372      139.413754        30\n",
       "997       c_998   32  woman      43.062267      141.272126        30\n",
       "998       c_999   48  woman      38.172800      140.464198        40\n",
       "999      c_1000   39    man      35.452412      139.411310        30\n",
       "\n",
       "[1000 rows x 6 columns]"
      ],
      "text/html": "<div>\n<style scoped>\n    .dataframe tbody tr th:only-of-type {\n        vertical-align: middle;\n    }\n\n    .dataframe tbody tr th {\n        vertical-align: top;\n    }\n\n    .dataframe thead th {\n        text-align: right;\n    }\n</style>\n<table border=\"1\" class=\"dataframe\">\n  <thead>\n    <tr style=\"text-align: right;\">\n      <th></th>\n      <th>customer_id</th>\n      <th>age</th>\n      <th>sex</th>\n      <th>home_latitude</th>\n      <th>home_longitude</th>\n      <th>age_rank</th>\n    </tr>\n  </thead>\n  <tbody>\n    <tr>\n      <th>0</th>\n      <td>c_1</td>\n      <td>41</td>\n      <td>man</td>\n      <td>35.092193</td>\n      <td>136.512347</td>\n      <td>40</td>\n    </tr>\n    <tr>\n      <th>1</th>\n      <td>c_2</td>\n      <td>38</td>\n      <td>man</td>\n      <td>35.325076</td>\n      <td>139.410551</td>\n      <td>30</td>\n    </tr>\n    <tr>\n      <th>2</th>\n      <td>c_3</td>\n      <td>49</td>\n      <td>woman</td>\n      <td>35.120543</td>\n      <td>136.511179</td>\n      <td>40</td>\n    </tr>\n    <tr>\n      <th>3</th>\n      <td>c_4</td>\n      <td>43</td>\n      <td>man</td>\n      <td>43.034868</td>\n      <td>141.240314</td>\n      <td>40</td>\n    </tr>\n    <tr>\n      <th>4</th>\n      <td>c_5</td>\n      <td>31</td>\n      <td>man</td>\n      <td>35.102661</td>\n      <td>136.523797</td>\n      <td>30</td>\n    </tr>\n    <tr>\n      <th>...</th>\n      <td>...</td>\n      <td>...</td>\n      <td>...</td>\n      <td>...</td>\n      <td>...</td>\n      <td>...</td>\n    </tr>\n    <tr>\n      <th>995</th>\n      <td>c_996</td>\n      <td>44</td>\n      <td>man</td>\n      <td>34.465648</td>\n      <td>135.373787</td>\n      <td>40</td>\n    </tr>\n    <tr>\n      <th>996</th>\n      <td>c_997</td>\n      <td>35</td>\n      <td>man</td>\n      <td>35.345372</td>\n      <td>139.413754</td>\n      <td>30</td>\n    </tr>\n    <tr>\n      <th>997</th>\n      <td>c_998</td>\n      <td>32</td>\n      <td>woman</td>\n      <td>43.062267</td>\n      <td>141.272126</td>\n      <td>30</td>\n    </tr>\n    <tr>\n      <th>998</th>\n      <td>c_999</td>\n      <td>48</td>\n      <td>woman</td>\n      <td>38.172800</td>\n      <td>140.464198</td>\n      <td>40</td>\n    </tr>\n    <tr>\n      <th>999</th>\n      <td>c_1000</td>\n      <td>39</td>\n      <td>man</td>\n      <td>35.452412</td>\n      <td>139.411310</td>\n      <td>30</td>\n    </tr>\n  </tbody>\n</table>\n<p>1000 rows × 6 columns</p>\n</div>"
     },
     "metadata": {},
     "execution_count": 8
    }
   ],
   "source": [
    "customer_tb"
   ]
  },
  {
   "cell_type": "code",
   "execution_count": 9,
   "metadata": {},
   "outputs": [],
   "source": [
    "from sklearn.preprocessing import StandardScaler"
   ]
  },
  {
   "cell_type": "code",
   "execution_count": 10,
   "metadata": {},
   "outputs": [],
   "source": [
    "reserve_tb['people_num'] = reserve_tb['people_num'].astype(float)"
   ]
  },
  {
   "cell_type": "code",
   "execution_count": 11,
   "metadata": {},
   "outputs": [],
   "source": [
    "ss = StandardScaler()\n",
    "result = ss.fit_transform(reserve_tb[['people_num','total_price']])\n",
    "reserve_tb['people_num_normalized'] = [x[0] for x in result]\n",
    "reserve_tb['total_price_normalized'] = [x[1] for x in result]"
   ]
  },
  {
   "cell_type": "code",
   "execution_count": 12,
   "metadata": {},
   "outputs": [],
   "source": [
    "reserve_tb = reserve_tb[(abs(reserve_tb['total_price']-np.mean(reserve_tb['total_price']))/np.std(reserve_tb['total_price']))<=3].reset_index()"
   ]
  },
  {
   "cell_type": "code",
   "execution_count": 13,
   "metadata": {},
   "outputs": [],
   "source": [
    "from sklearn.decomposition import PCA"
   ]
  },
  {
   "cell_type": "code",
   "execution_count": 18,
   "metadata": {},
   "outputs": [],
   "source": [
    "pca = PCA(n_components=2)\n",
    "pca_values = pca.fit_transform(production_tb[['length','thickness']])\n",
    "pca_newvalues = pca.transform(production_tb[['length','thickness']])"
   ]
  },
  {
   "cell_type": "code",
   "execution_count": 23,
   "metadata": {},
   "outputs": [],
   "source": [
    "production_miss_num = pd.read_csv(\"../awesomebook/data/production_missing_num.csv\")"
   ]
  },
  {
   "cell_type": "code",
   "execution_count": 24,
   "metadata": {},
   "outputs": [],
   "source": [
    "production_miss_num.replace('None',np.nan,inplace=True)"
   ]
  },
  {
   "cell_type": "code",
   "execution_count": 22,
   "metadata": {},
   "outputs": [],
   "source": [
    "production_miss_num.dropna(subset=['thickness'],inplace=True)"
   ]
  },
  {
   "cell_type": "code",
   "execution_count": 25,
   "metadata": {},
   "outputs": [],
   "source": [
    "production_miss_num['thickness'] = production_miss_num['thickness'].astype(float)\n",
    "thickness_mean = np.mean(production_miss_num['thickness'])\n",
    "production_miss_num['thickness'].fillna(thickness_mean,inplace=True)"
   ]
  },
  {
   "cell_type": "code",
   "execution_count": 28,
   "metadata": {},
   "outputs": [
    {
     "output_type": "error",
     "ename": "ModuleNotFoundError",
     "evalue": "No module named 'fancyimpute'",
     "traceback": [
      "\u001b[1;31m---------------------------------------------------------------------------\u001b[0m",
      "\u001b[1;31mModuleNotFoundError\u001b[0m                       Traceback (most recent call last)",
      "\u001b[1;32m<ipython-input-28-15f770b529d8>\u001b[0m in \u001b[0;36m<module>\u001b[1;34m\u001b[0m\n\u001b[1;32m----> 1\u001b[1;33m \u001b[1;32mfrom\u001b[0m \u001b[0mfancyimpute\u001b[0m \u001b[1;32mimport\u001b[0m \u001b[0mMICE\u001b[0m\u001b[1;33m\u001b[0m\u001b[1;33m\u001b[0m\u001b[0m\n\u001b[0m",
      "\u001b[1;31mModuleNotFoundError\u001b[0m: No module named 'fancyimpute'"
     ]
    }
   ],
   "source": [
    "from fancyimpute import MICE"
   ]
  },
  {
   "cell_type": "code",
   "execution_count": null,
   "metadata": {},
   "outputs": [],
   "source": []
  }
 ]
}