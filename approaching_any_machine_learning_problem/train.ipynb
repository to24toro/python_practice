{
 "metadata": {
  "language_info": {
   "codemirror_mode": {
    "name": "ipython",
    "version": 3
   },
   "file_extension": ".py",
   "mimetype": "text/x-python",
   "name": "python",
   "nbconvert_exporter": "python",
   "pygments_lexer": "ipython3",
   "version": "3.9.4"
  },
  "orig_nbformat": 2,
  "kernelspec": {
   "name": "python394jvsc74a57bd03c85ce8d5b7e180214ae83dea4d679439631f19c08b22e937e77ad215cbb97c9",
   "display_name": "Python 3.9.4 64-bit"
  },
  "metadata": {
   "interpreter": {
    "hash": "3c85ce8d5b7e180214ae83dea4d679439631f19c08b22e937e77ad215cbb97c9"
   }
  }
 },
 "nbformat": 4,
 "nbformat_minor": 2,
 "cells": [
  {
   "cell_type": "code",
   "execution_count": 34,
   "metadata": {},
   "outputs": [],
   "source": [
    "import numpy as np\n",
    "import pandas as pd\n",
    "import seaborn as sns\n",
    "import matplotlib as plt\n",
    "from sklearn.preprocessing import LabelEncoder,OneHotEncoder"
   ]
  },
  {
   "cell_type": "code",
   "execution_count": 43,
   "metadata": {},
   "outputs": [],
   "source": [
    "df = pd.read_csv(\"input/train.csv\")"
   ]
  },
  {
   "cell_type": "code",
   "execution_count": 26,
   "metadata": {},
   "outputs": [
    {
     "output_type": "execute_result",
     "data": {
      "text/plain": [
       "array(['Hot', 'Warm', 'Freezing', 'Lava Hot', 'Cold', 'Boiling Hot', nan],\n",
       "      dtype=object)"
      ]
     },
     "metadata": {},
     "execution_count": 26
    }
   ],
   "source": [
    "df[\"ord_2\"].unique()"
   ]
  },
  {
   "cell_type": "code",
   "execution_count": 27,
   "metadata": {},
   "outputs": [],
   "source": [
    "mapping = {'Hot':4, 'Warm':1, 'Freezing':0, 'Lava Hot':5, 'Cold':2, 'Boiling Hot':3}"
   ]
  },
  {
   "cell_type": "code",
   "execution_count": 28,
   "metadata": {},
   "outputs": [],
   "source": [
    "df['ord_2'] = df['ord_2'].map(mapping)\n",
    "#df.loc[:,'ord_2'] = df.ord_2.map(mapping)"
   ]
  },
  {
   "cell_type": "code",
   "execution_count": 45,
   "metadata": {},
   "outputs": [],
   "source": [
    "df[\"ord_2\"].fillna(\"None\",inplace=True)"
   ]
  },
  {
   "cell_type": "code",
   "execution_count": 29,
   "metadata": {},
   "outputs": [],
   "source": [
    "df['ord_2'].fillna(-1,inplace=True)"
   ]
  },
  {
   "cell_type": "code",
   "execution_count": 33,
   "metadata": {},
   "outputs": [
    {
     "output_type": "execute_result",
     "data": {
      "text/plain": [
       "array([5, 2, 1, 6, 3, 4, 0], dtype=int64)"
      ]
     },
     "metadata": {},
     "execution_count": 33
    }
   ],
   "source": [
    "df['ord_2'].isnull().sum()\n",
    "df['ord_2'].unique()"
   ]
  },
  {
   "cell_type": "code",
   "execution_count": 31,
   "metadata": {},
   "outputs": [],
   "source": [
    "df['ord_2'] = LabelEncoder().fit_transform(df['ord_2'])"
   ]
  },
  {
   "cell_type": "code",
   "execution_count": 36,
   "metadata": {},
   "outputs": [
    {
     "output_type": "stream",
     "name": "stdout",
     "text": [
      "Size of dense array: 8000000000\n",
      "Size of sparse array: 8000000\n"
     ]
    }
   ],
   "source": [
    "example = np.random.randint(1000,size=1000000)\n",
    "ohe = OneHotEncoder(sparse=False)\n",
    "ohe_example = ohe.fit_transform(example.reshape(-1,1))\n",
    "print(f\"Size of dense array: {ohe_example.nbytes}\")\n",
    "ohe = OneHotEncoder(sparse=True)\n",
    "ohe_example = ohe.fit_transform(example.reshape(-1,1))\n",
    "print(f\"Size of sparse array: {ohe_example.data.nbytes}\")"
   ]
  },
  {
   "cell_type": "code",
   "execution_count": 38,
   "metadata": {},
   "outputs": [
    {
     "output_type": "execute_result",
     "data": {
      "text/plain": [
       "ord_2\n",
       "0     18075\n",
       "1    142726\n",
       "2    124239\n",
       "3     97822\n",
       "4     84790\n",
       "5     67508\n",
       "6     64840\n",
       "Name: id, dtype: int64"
      ]
     },
     "metadata": {},
     "execution_count": 38
    }
   ],
   "source": [
    "df.groupby([\"ord_2\"]).id.count()"
   ]
  },
  {
   "cell_type": "code",
   "execution_count": 39,
   "metadata": {},
   "outputs": [
    {
     "output_type": "execute_result",
     "data": {
      "text/plain": [
       "0          67508\n",
       "1         124239\n",
       "2         142726\n",
       "3          64840\n",
       "4          97822\n",
       "           ...  \n",
       "599995    142726\n",
       "599996     84790\n",
       "599997    142726\n",
       "599998    124239\n",
       "599999     84790\n",
       "Name: id, Length: 600000, dtype: int64"
      ]
     },
     "metadata": {},
     "execution_count": 39
    }
   ],
   "source": [
    "df.groupby([\"ord_2\"]).id.transform(\"count\")"
   ]
  },
  {
   "cell_type": "code",
   "execution_count": 40,
   "metadata": {},
   "outputs": [
    {
     "output_type": "execute_result",
     "data": {
      "text/plain": [
       "          ord_1  ord_2  count\n",
       "0   Contributor      0   3250\n",
       "1   Contributor      1  26082\n",
       "2   Contributor      2  22774\n",
       "3   Contributor      3  17734\n",
       "4   Contributor      4  15634\n",
       "5   Contributor      5  12428\n",
       "6   Contributor      6  11919\n",
       "7        Expert      0   4225\n",
       "8        Expert      1  33249\n",
       "9        Expert      2  28900\n",
       "10       Expert      3  22956\n",
       "11       Expert      4  19477\n",
       "12       Expert      5  15792\n",
       "13       Expert      6  15078\n",
       "14  Grandmaster      0   2894\n",
       "15  Grandmaster      1  22818\n",
       "16  Grandmaster      2  19899\n",
       "17  Grandmaster      3  15464\n",
       "18  Grandmaster      4  13623\n",
       "19  Grandmaster      5  10805\n",
       "20  Grandmaster      6  10363\n",
       "21       Master      0   2262\n",
       "22       Master      1  18035\n",
       "23       Master      2  15734\n",
       "24       Master      3  12364\n",
       "25       Master      4  10800\n",
       "26       Master      5   8594\n",
       "27       Master      6   8209\n",
       "28       Novice      0   4889\n",
       "29       Novice      1  38233\n",
       "30       Novice      2  33263\n",
       "31       Novice      3  26271\n",
       "32       Novice      4  22718\n",
       "33       Novice      5  17850\n",
       "34       Novice      6  17373"
      ],
      "text/html": "<div>\n<style scoped>\n    .dataframe tbody tr th:only-of-type {\n        vertical-align: middle;\n    }\n\n    .dataframe tbody tr th {\n        vertical-align: top;\n    }\n\n    .dataframe thead th {\n        text-align: right;\n    }\n</style>\n<table border=\"1\" class=\"dataframe\">\n  <thead>\n    <tr style=\"text-align: right;\">\n      <th></th>\n      <th>ord_1</th>\n      <th>ord_2</th>\n      <th>count</th>\n    </tr>\n  </thead>\n  <tbody>\n    <tr>\n      <th>0</th>\n      <td>Contributor</td>\n      <td>0</td>\n      <td>3250</td>\n    </tr>\n    <tr>\n      <th>1</th>\n      <td>Contributor</td>\n      <td>1</td>\n      <td>26082</td>\n    </tr>\n    <tr>\n      <th>2</th>\n      <td>Contributor</td>\n      <td>2</td>\n      <td>22774</td>\n    </tr>\n    <tr>\n      <th>3</th>\n      <td>Contributor</td>\n      <td>3</td>\n      <td>17734</td>\n    </tr>\n    <tr>\n      <th>4</th>\n      <td>Contributor</td>\n      <td>4</td>\n      <td>15634</td>\n    </tr>\n    <tr>\n      <th>5</th>\n      <td>Contributor</td>\n      <td>5</td>\n      <td>12428</td>\n    </tr>\n    <tr>\n      <th>6</th>\n      <td>Contributor</td>\n      <td>6</td>\n      <td>11919</td>\n    </tr>\n    <tr>\n      <th>7</th>\n      <td>Expert</td>\n      <td>0</td>\n      <td>4225</td>\n    </tr>\n    <tr>\n      <th>8</th>\n      <td>Expert</td>\n      <td>1</td>\n      <td>33249</td>\n    </tr>\n    <tr>\n      <th>9</th>\n      <td>Expert</td>\n      <td>2</td>\n      <td>28900</td>\n    </tr>\n    <tr>\n      <th>10</th>\n      <td>Expert</td>\n      <td>3</td>\n      <td>22956</td>\n    </tr>\n    <tr>\n      <th>11</th>\n      <td>Expert</td>\n      <td>4</td>\n      <td>19477</td>\n    </tr>\n    <tr>\n      <th>12</th>\n      <td>Expert</td>\n      <td>5</td>\n      <td>15792</td>\n    </tr>\n    <tr>\n      <th>13</th>\n      <td>Expert</td>\n      <td>6</td>\n      <td>15078</td>\n    </tr>\n    <tr>\n      <th>14</th>\n      <td>Grandmaster</td>\n      <td>0</td>\n      <td>2894</td>\n    </tr>\n    <tr>\n      <th>15</th>\n      <td>Grandmaster</td>\n      <td>1</td>\n      <td>22818</td>\n    </tr>\n    <tr>\n      <th>16</th>\n      <td>Grandmaster</td>\n      <td>2</td>\n      <td>19899</td>\n    </tr>\n    <tr>\n      <th>17</th>\n      <td>Grandmaster</td>\n      <td>3</td>\n      <td>15464</td>\n    </tr>\n    <tr>\n      <th>18</th>\n      <td>Grandmaster</td>\n      <td>4</td>\n      <td>13623</td>\n    </tr>\n    <tr>\n      <th>19</th>\n      <td>Grandmaster</td>\n      <td>5</td>\n      <td>10805</td>\n    </tr>\n    <tr>\n      <th>20</th>\n      <td>Grandmaster</td>\n      <td>6</td>\n      <td>10363</td>\n    </tr>\n    <tr>\n      <th>21</th>\n      <td>Master</td>\n      <td>0</td>\n      <td>2262</td>\n    </tr>\n    <tr>\n      <th>22</th>\n      <td>Master</td>\n      <td>1</td>\n      <td>18035</td>\n    </tr>\n    <tr>\n      <th>23</th>\n      <td>Master</td>\n      <td>2</td>\n      <td>15734</td>\n    </tr>\n    <tr>\n      <th>24</th>\n      <td>Master</td>\n      <td>3</td>\n      <td>12364</td>\n    </tr>\n    <tr>\n      <th>25</th>\n      <td>Master</td>\n      <td>4</td>\n      <td>10800</td>\n    </tr>\n    <tr>\n      <th>26</th>\n      <td>Master</td>\n      <td>5</td>\n      <td>8594</td>\n    </tr>\n    <tr>\n      <th>27</th>\n      <td>Master</td>\n      <td>6</td>\n      <td>8209</td>\n    </tr>\n    <tr>\n      <th>28</th>\n      <td>Novice</td>\n      <td>0</td>\n      <td>4889</td>\n    </tr>\n    <tr>\n      <th>29</th>\n      <td>Novice</td>\n      <td>1</td>\n      <td>38233</td>\n    </tr>\n    <tr>\n      <th>30</th>\n      <td>Novice</td>\n      <td>2</td>\n      <td>33263</td>\n    </tr>\n    <tr>\n      <th>31</th>\n      <td>Novice</td>\n      <td>3</td>\n      <td>26271</td>\n    </tr>\n    <tr>\n      <th>32</th>\n      <td>Novice</td>\n      <td>4</td>\n      <td>22718</td>\n    </tr>\n    <tr>\n      <th>33</th>\n      <td>Novice</td>\n      <td>5</td>\n      <td>17850</td>\n    </tr>\n    <tr>\n      <th>34</th>\n      <td>Novice</td>\n      <td>6</td>\n      <td>17373</td>\n    </tr>\n  </tbody>\n</table>\n</div>"
     },
     "metadata": {},
     "execution_count": 40
    }
   ],
   "source": [
    "df.groupby([\"ord_1\",\"ord_2\"])[\"id\"].count().reset_index(name = \"count\")"
   ]
  },
  {
   "cell_type": "code",
   "execution_count": 46,
   "metadata": {},
   "outputs": [],
   "source": [
    "\n",
    "df[\"new_feature\"] = df.ord_1.astype(str)+\"_\"+df.ord_2.astype(str)"
   ]
  },
  {
   "cell_type": "code",
   "execution_count": 47,
   "metadata": {},
   "outputs": [
    {
     "output_type": "execute_result",
     "data": {
      "text/plain": [
       "0                 Contributor_Hot\n",
       "1                Grandmaster_Warm\n",
       "2                    nan_Freezing\n",
       "3                 Novice_Lava Hot\n",
       "4                Grandmaster_Cold\n",
       "                   ...           \n",
       "599995            Novice_Freezing\n",
       "599996         Novice_Boiling Hot\n",
       "599997       Contributor_Freezing\n",
       "599998                Master_Warm\n",
       "599999    Contributor_Boiling Hot\n",
       "Name: new_feature, Length: 600000, dtype: object"
      ]
     },
     "metadata": {},
     "execution_count": 47
    }
   ],
   "source": [
    "df[\"new_feature\"]"
   ]
  },
  {
   "cell_type": "code",
   "execution_count": 48,
   "metadata": {},
   "outputs": [],
   "source": [
    "train = pd.read_csv(\"input/train.csv\")\n",
    "test = pd.read_csv(\"input/test.csv\")\n",
    "test.loc[:,\"target\"]=-1\n",
    "data = pd.concat([train,test]).reset_index(drop=True)\n"
   ]
  },
  {
   "cell_type": "code",
   "execution_count": 49,
   "metadata": {},
   "outputs": [],
   "source": [
    "features = [x for x in data.columns if x not in [\"id\",\"target\"]]"
   ]
  },
  {
   "cell_type": "code",
   "execution_count": 55,
   "metadata": {},
   "outputs": [],
   "source": [
    "for feat in features:\n",
    "    lb = LabelEncoder()\n",
    "    tmp_col = data[feat].fillna(\"None\").astype(str).values\n",
    "    data.loc[:,feat] = lb.fit_transform(tmp_col)\n",
    "train = data[data.target!=-1].reset_index(drop=True)\n",
    "test = data[data.target==-1].reset_index(drop=True)"
   ]
  },
  {
   "cell_type": "code",
   "execution_count": 59,
   "metadata": {},
   "outputs": [
    {
     "output_type": "execute_result",
     "data": {
      "text/plain": [
       "N       39978\n",
       "P       37890\n",
       "Y       36657\n",
       "A       36633\n",
       "R       33045\n",
       "U       32897\n",
       "M       32504\n",
       "X       32347\n",
       "C       32112\n",
       "H       31189\n",
       "Q       30145\n",
       "T       29723\n",
       "O       25610\n",
       "B       25212\n",
       "E       21871\n",
       "K       21676\n",
       "I       19805\n",
       "None    17930\n",
       "D       17284\n",
       "F       16721\n",
       "W        8268\n",
       "Z        5790\n",
       "S        4595\n",
       "G        3404\n",
       "V        3107\n",
       "J        1950\n",
       "L        1657\n",
       "Name: ord_4, dtype: int64"
      ]
     },
     "metadata": {},
     "execution_count": 59
    }
   ],
   "source": [
    "df.ord_4.fillna(\"None\").value_counts()"
   ]
  },
  {
   "cell_type": "code",
   "execution_count": 64,
   "metadata": {},
   "outputs": [],
   "source": [
    "df = pd.read_csv(\"input/cat_train_folds.csv\")"
   ]
  },
  {
   "cell_type": "code",
   "execution_count": 65,
   "metadata": {},
   "outputs": [
    {
     "output_type": "execute_result",
     "data": {
      "text/plain": [
       "0    120000\n",
       "1    120000\n",
       "2    120000\n",
       "3    120000\n",
       "4    120000\n",
       "Name: kfold, dtype: int64"
      ]
     },
     "metadata": {},
     "execution_count": 65
    }
   ],
   "source": [
    "df.kfold.value_counts()"
   ]
  },
  {
   "cell_type": "code",
   "execution_count": 66,
   "metadata": {},
   "outputs": [
    {
     "output_type": "execute_result",
     "data": {
      "text/plain": [
       "0    97536\n",
       "1    22464\n",
       "Name: target, dtype: int64"
      ]
     },
     "metadata": {},
     "execution_count": 66
    }
   ],
   "source": [
    "df[df.kfold==0].target.value_counts()"
   ]
  },
  {
   "cell_type": "code",
   "execution_count": null,
   "metadata": {},
   "outputs": [],
   "source": []
  }
 ]
}