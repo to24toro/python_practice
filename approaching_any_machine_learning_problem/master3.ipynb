{
 "metadata": {
  "language_info": {
   "codemirror_mode": {
    "name": "ipython",
    "version": 3
   },
   "file_extension": ".py",
   "mimetype": "text/x-python",
   "name": "python",
   "nbconvert_exporter": "python",
   "pygments_lexer": "ipython3",
   "version": "3.9.4"
  },
  "orig_nbformat": 2,
  "kernelspec": {
   "name": "python394jvsc74a57bd03c85ce8d5b7e180214ae83dea4d679439631f19c08b22e937e77ad215cbb97c9",
   "display_name": "Python 3.9.4 64-bit"
  },
  "metadata": {
   "interpreter": {
    "hash": "3c85ce8d5b7e180214ae83dea4d679439631f19c08b22e937e77ad215cbb97c9"
   }
  }
 },
 "nbformat": 4,
 "nbformat_minor": 2,
 "cells": [
  {
   "cell_type": "code",
   "execution_count": 3,
   "metadata": {},
   "outputs": [
    {
     "output_type": "execute_result",
     "data": {
      "text/plain": [
       "{'dayofweek': array([0, 0, 0, 1, 1, 2, 2, 2, 3, 3], dtype=int64),\n",
       " 'quarter': array([1, 1, 1, 1, 1, 1, 1, 1, 1, 1], dtype=int64)}"
      ]
     },
     "metadata": {},
     "execution_count": 3
    }
   ],
   "source": [
    "import pandas as pd\n",
    "s =pd.date_range(\"2020-01-06\",\"2020-01-10\",freq=\"10H\").to_series()\n",
    "features = {\n",
    "    \"dayofweek\":s.dt.dayofweek.values,\n",
    "    \"quarter\":s.dt.quarter.values\n",
    "}\n",
    "features"
   ]
  },
  {
   "cell_type": "code",
   "execution_count": 5,
   "metadata": {},
   "outputs": [
    {
     "output_type": "execute_result",
     "data": {
      "text/plain": [
       "         f_1       f_2\n",
       "0   0.683987  0.745357\n",
       "1   0.105413  0.617193\n",
       "2   0.805041  0.487346\n",
       "3   0.577839  0.237197\n",
       "4   0.592090  0.473080\n",
       "..       ...       ...\n",
       "95  0.640502  0.347923\n",
       "96  0.311399  0.736096\n",
       "97  0.024502  0.841237\n",
       "98  0.801801  0.805443\n",
       "99  0.013553  0.512589\n",
       "\n",
       "[100 rows x 2 columns]"
      ],
      "text/html": "<div>\n<style scoped>\n    .dataframe tbody tr th:only-of-type {\n        vertical-align: middle;\n    }\n\n    .dataframe tbody tr th {\n        vertical-align: top;\n    }\n\n    .dataframe thead th {\n        text-align: right;\n    }\n</style>\n<table border=\"1\" class=\"dataframe\">\n  <thead>\n    <tr style=\"text-align: right;\">\n      <th></th>\n      <th>f_1</th>\n      <th>f_2</th>\n    </tr>\n  </thead>\n  <tbody>\n    <tr>\n      <th>0</th>\n      <td>0.683987</td>\n      <td>0.745357</td>\n    </tr>\n    <tr>\n      <th>1</th>\n      <td>0.105413</td>\n      <td>0.617193</td>\n    </tr>\n    <tr>\n      <th>2</th>\n      <td>0.805041</td>\n      <td>0.487346</td>\n    </tr>\n    <tr>\n      <th>3</th>\n      <td>0.577839</td>\n      <td>0.237197</td>\n    </tr>\n    <tr>\n      <th>4</th>\n      <td>0.592090</td>\n      <td>0.473080</td>\n    </tr>\n    <tr>\n      <th>...</th>\n      <td>...</td>\n      <td>...</td>\n    </tr>\n    <tr>\n      <th>95</th>\n      <td>0.640502</td>\n      <td>0.347923</td>\n    </tr>\n    <tr>\n      <th>96</th>\n      <td>0.311399</td>\n      <td>0.736096</td>\n    </tr>\n    <tr>\n      <th>97</th>\n      <td>0.024502</td>\n      <td>0.841237</td>\n    </tr>\n    <tr>\n      <th>98</th>\n      <td>0.801801</td>\n      <td>0.805443</td>\n    </tr>\n    <tr>\n      <th>99</th>\n      <td>0.013553</td>\n      <td>0.512589</td>\n    </tr>\n  </tbody>\n</table>\n<p>100 rows × 2 columns</p>\n</div>"
     },
     "metadata": {},
     "execution_count": 5
    }
   ],
   "source": [
    "import numpy as np\n",
    "df = pd.DataFrame(\n",
    "    np.random.rand(100,2),\n",
    "    columns = [f\"f_{i}\" for i in range(1,3)]\n",
    ")\n",
    "df"
   ]
  },
  {
   "cell_type": "code",
   "execution_count": 7,
   "metadata": {},
   "outputs": [],
   "source": [
    "from sklearn.preprocessing import PolynomialFeatures\n",
    "pf = PolynomialFeatures(\n",
    "    degree=2,\n",
    "    interaction_only=False,\n",
    "    include_bias=False\n",
    ")\n",
    "poly_feats = pf.fit_transform(df)\n",
    "num = poly_feats.shape[1]"
   ]
  },
  {
   "cell_type": "code",
   "execution_count": 9,
   "metadata": {},
   "outputs": [
    {
     "output_type": "execute_result",
     "data": {
      "text/plain": [
       "         f_1       f_2       f_3       f_4       f_5\n",
       "0   0.683987  0.745357  0.467838  0.509814  0.555556\n",
       "1   0.105413  0.617193  0.011112  0.065060  0.380927\n",
       "2   0.805041  0.487346  0.648091  0.392333  0.237506\n",
       "3   0.577839  0.237197  0.333898  0.137062  0.056262\n",
       "4   0.592090  0.473080  0.350570  0.280106  0.223804\n",
       "..       ...       ...       ...       ...       ...\n",
       "95  0.640502  0.347923  0.410243  0.222845  0.121050\n",
       "96  0.311399  0.736096  0.096969  0.229219  0.541837\n",
       "97  0.024502  0.841237  0.000600  0.020612  0.707680\n",
       "98  0.801801  0.805443  0.642884  0.645805  0.648739\n",
       "99  0.013553  0.512589  0.000184  0.006947  0.262748\n",
       "\n",
       "[100 rows x 5 columns]"
      ],
      "text/html": "<div>\n<style scoped>\n    .dataframe tbody tr th:only-of-type {\n        vertical-align: middle;\n    }\n\n    .dataframe tbody tr th {\n        vertical-align: top;\n    }\n\n    .dataframe thead th {\n        text-align: right;\n    }\n</style>\n<table border=\"1\" class=\"dataframe\">\n  <thead>\n    <tr style=\"text-align: right;\">\n      <th></th>\n      <th>f_1</th>\n      <th>f_2</th>\n      <th>f_3</th>\n      <th>f_4</th>\n      <th>f_5</th>\n    </tr>\n  </thead>\n  <tbody>\n    <tr>\n      <th>0</th>\n      <td>0.683987</td>\n      <td>0.745357</td>\n      <td>0.467838</td>\n      <td>0.509814</td>\n      <td>0.555556</td>\n    </tr>\n    <tr>\n      <th>1</th>\n      <td>0.105413</td>\n      <td>0.617193</td>\n      <td>0.011112</td>\n      <td>0.065060</td>\n      <td>0.380927</td>\n    </tr>\n    <tr>\n      <th>2</th>\n      <td>0.805041</td>\n      <td>0.487346</td>\n      <td>0.648091</td>\n      <td>0.392333</td>\n      <td>0.237506</td>\n    </tr>\n    <tr>\n      <th>3</th>\n      <td>0.577839</td>\n      <td>0.237197</td>\n      <td>0.333898</td>\n      <td>0.137062</td>\n      <td>0.056262</td>\n    </tr>\n    <tr>\n      <th>4</th>\n      <td>0.592090</td>\n      <td>0.473080</td>\n      <td>0.350570</td>\n      <td>0.280106</td>\n      <td>0.223804</td>\n    </tr>\n    <tr>\n      <th>...</th>\n      <td>...</td>\n      <td>...</td>\n      <td>...</td>\n      <td>...</td>\n      <td>...</td>\n    </tr>\n    <tr>\n      <th>95</th>\n      <td>0.640502</td>\n      <td>0.347923</td>\n      <td>0.410243</td>\n      <td>0.222845</td>\n      <td>0.121050</td>\n    </tr>\n    <tr>\n      <th>96</th>\n      <td>0.311399</td>\n      <td>0.736096</td>\n      <td>0.096969</td>\n      <td>0.229219</td>\n      <td>0.541837</td>\n    </tr>\n    <tr>\n      <th>97</th>\n      <td>0.024502</td>\n      <td>0.841237</td>\n      <td>0.000600</td>\n      <td>0.020612</td>\n      <td>0.707680</td>\n    </tr>\n    <tr>\n      <th>98</th>\n      <td>0.801801</td>\n      <td>0.805443</td>\n      <td>0.642884</td>\n      <td>0.645805</td>\n      <td>0.648739</td>\n    </tr>\n    <tr>\n      <th>99</th>\n      <td>0.013553</td>\n      <td>0.512589</td>\n      <td>0.000184</td>\n      <td>0.006947</td>\n      <td>0.262748</td>\n    </tr>\n  </tbody>\n</table>\n<p>100 rows × 5 columns</p>\n</div>"
     },
     "metadata": {},
     "execution_count": 9
    }
   ],
   "source": [
    "df_transformed = pd.DataFrame(\n",
    "    poly_feats,\n",
    "    columns=[f\"f_{i}\" for i in range(1,num+1)]\n",
    ")\n",
    "df_transformed"
   ]
  },
  {
   "cell_type": "code",
   "execution_count": 12,
   "metadata": {},
   "outputs": [],
   "source": [
    "df[\"f_bin_10\"] = pd.cut(df[\"f_1\"],bins=10,labels=False)"
   ]
  },
  {
   "cell_type": "code",
   "execution_count": 15,
   "metadata": {},
   "outputs": [],
   "source": [
    "from sklearn.feature_selection import chi2,f_classif,f_regression,mutual_info_classif,mutual_info_regression,SelectKBest,SelectPercentile"
   ]
  },
  {
   "cell_type": "code",
   "execution_count": 16,
   "metadata": {},
   "outputs": [],
   "source": [
    "class UnivariateFeatureSelection:\n",
    "    def __init__(self,n_features,problem_type,scoring):\n",
    "        if problem_type==\"classification\":\n",
    "            valid_scoring = {\n",
    "                \"f_classif\":f_classif,\n",
    "                \"chi2\":chi2,\n",
    "                \"mutual_info_classif\":mutual_info_classif\n",
    "            }\n",
    "        else:\n",
    "            valid_scoring ={\n",
    "                \"f_regression\":f_regression,\n",
    "                \"mutual_info_regression\":mutual_info_regression\n",
    "            }\n",
    "        if scoring not in valid_scoring:\n",
    "            raise Exception(\"Invalid scoring function\")\n",
    "\n",
    "        if isinstance(n_features,int):\n",
    "            self.selection = SelectKBest(\n",
    "                valid_scoring[scoring],\n",
    "                k = n_features\n",
    "            )\n",
    "        elif isinstance(n_features,float):\n",
    "            self.selection = SelectPercentile(\n",
    "                valid_scoring[scoring],\n",
    "                percentile=int(n_features*100)\n",
    "            )\n",
    "        else:\n",
    "            raise Exception(\"Invalid type of feature\")\n",
    "\n",
    "    def fit(self,X,y):\n",
    "        return self.selection.fit(X,y)\n",
    "    \n",
    "    def transform(self,X):\n",
    "        return self.selection.transform(X)\n",
    "    \n",
    "    def fit_transform(self,X,y):\n",
    "        return self.selection.fit_transform(X,y)"
   ]
  },
  {
   "cell_type": "code",
   "execution_count": null,
   "metadata": {},
   "outputs": [],
   "source": []
  }
 ]
}