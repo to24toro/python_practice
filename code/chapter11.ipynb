{
 "metadata": {
  "language_info": {
   "codemirror_mode": {
    "name": "ipython",
    "version": 3
   },
   "file_extension": ".py",
   "mimetype": "text/x-python",
   "name": "python",
   "nbconvert_exporter": "python",
   "pygments_lexer": "ipython3",
   "version": "3.9.4"
  },
  "orig_nbformat": 2,
  "kernelspec": {
   "name": "python394jvsc74a57bd03c85ce8d5b7e180214ae83dea4d679439631f19c08b22e937e77ad215cbb97c9",
   "display_name": "Python 3.9.4 64-bit"
  },
  "metadata": {
   "interpreter": {
    "hash": "3c85ce8d5b7e180214ae83dea4d679439631f19c08b22e937e77ad215cbb97c9"
   }
  }
 },
 "nbformat": 4,
 "nbformat_minor": 2,
 "cells": [
  {
   "cell_type": "code",
   "execution_count": 9,
   "metadata": {},
   "outputs": [
    {
     "output_type": "stream",
     "name": "stderr",
     "text": [
      "C:\\Users\\UEDA\\AppData\\Local\\Programs\\Python\\Python39\\lib\\site-packages\\gensim\\similarities\\__init__.py:15: UserWarning: The gensim.similarities.levenshtein submodule is disabled, because the optional Levenshtein package <https://pypi.org/project/python-Levenshtein/> is unavailable. Install Levenhstein (e.g. `pip install python-Levenshtein`) to suppress this warning.\n  warnings.warn(msg)\n"
     ]
    }
   ],
   "source": [
    "import os\n",
    "import pandas as pd\n",
    "import numpy as np\n",
    "from sklearn.model_selection import train_test_split\n",
    "from sklearn.model_selection import KFold\n",
    "import MeCab\n",
    "from gensim import corpora,matutils\n",
    "reserve_tb = pd.read_csv(\"../awesomebook/data/reserve.csv\")\n",
    "production_tb = pd.read_csv(\"../awesomebook/data/production.csv\")\n",
    "customer_tb = pd.read_csv(\"../awesomebook/data/customer.csv\")"
   ]
  },
  {
   "cell_type": "code",
   "execution_count": 5,
   "metadata": {},
   "outputs": [],
   "source": [
    "mecab = MeCab.Tagger ()"
   ]
  },
  {
   "cell_type": "code",
   "execution_count": 7,
   "metadata": {},
   "outputs": [
    {
     "output_type": "stream",
     "name": "stdout",
     "text": [
      "太郎\t名詞,固有名詞,人名,名,*,*,太郎,タロウ,タロー\nは\t助詞,係助詞,*,*,*,*,は,ハ,ワ\nこの\t連体詞,*,*,*,*,*,この,コノ,コノ\n本\t名詞,一般,*,*,*,*,本,ホン,ホン\nを\t助詞,格助詞,一般,*,*,*,を,ヲ,ヲ\n女性\t名詞,一般,*,*,*,*,女性,ジョセイ,ジョセイ\nに\t助詞,格助詞,一般,*,*,*,に,ニ,ニ\n渡し\t動詞,自立,*,*,五段・サ行,連用形,渡す,ワタシ,ワタシ\nた\t助動詞,*,*,*,特殊・タ,基本形,た,タ,タ\n。\t記号,句点,*,*,*,*,。,。,。\nEOS\n\n"
     ]
    }
   ],
   "source": [
    "sentence = \"太郎はこの本を女性に渡した。\"\n",
    "print(mecab.parse(sentence))"
   ]
  },
  {
   "cell_type": "code",
   "execution_count": 14,
   "metadata": {},
   "outputs": [],
   "source": [
    "reserve_tb['reserve_datetime'] = pd.to_datetime(reserve_tb['reserve_datetime'],format = '%Y-%m-%d %H:%M:%S')"
   ]
  },
  {
   "cell_type": "code",
   "execution_count": 15,
   "metadata": {},
   "outputs": [],
   "source": [
    "reserve_tb['checkin_date'] = pd.to_datetime(reserve_tb['checkin_date'],format = '%Y-%m-%d %H:%M:%S')"
   ]
  },
  {
   "cell_type": "code",
   "execution_count": 17,
   "metadata": {},
   "outputs": [
    {
     "output_type": "execute_result",
     "data": {
      "text/plain": [
       "0       0\n",
       "1       0\n",
       "2      -1\n",
       "3       0\n",
       "4       0\n",
       "       ..\n",
       "4025   -1\n",
       "4026   -1\n",
       "4027   -1\n",
       "4028   -1\n",
       "4029   -1\n",
       "Length: 4030, dtype: int64"
      ]
     },
     "metadata": {},
     "execution_count": 17
    }
   ],
   "source": [
    "reserve_tb['reserve_datetime'].dt.year*12+reserve_tb['reserve_datetime'].dt.month-reserve_tb['checkin_date'].dt.year*12-reserve_tb['checkin_date'].dt.month"
   ]
  },
  {
   "cell_type": "code",
   "execution_count": 26,
   "metadata": {},
   "outputs": [
    {
     "output_type": "execute_result",
     "data": {
      "text/plain": [
       "     reserve_id hotel_id customer_id    reserve_datetime checkin_date  \\\n",
       "0            r1     h_75         c_1 2016-03-07 13:09:42   2016-03-26   \n",
       "1            r2    h_219         c_1 2016-07-17 23:39:55   2016-07-20   \n",
       "2            r3    h_179         c_1 2016-09-25 10:03:17   2016-10-19   \n",
       "3            r4    h_214         c_1 2017-03-09 03:20:10   2017-03-29   \n",
       "4            r5     h_16         c_1 2017-09-06 19:50:37   2017-09-22   \n",
       "...         ...      ...         ...                 ...          ...   \n",
       "4025      r4026    h_129       c_999 2017-06-28 23:00:02   2017-07-10   \n",
       "4026      r4027     h_97       c_999 2017-09-30 05:24:57   2017-10-09   \n",
       "4027      r4028     h_27       c_999 2018-03-15 05:01:45   2018-04-02   \n",
       "4028      r4029     h_48      c_1000 2016-04-17 15:20:17   2016-05-10   \n",
       "4029      r4030    h_117      c_1000 2016-06-07 08:16:51   2016-07-06   \n",
       "\n",
       "     checkin_time checkout_date  people_num  total_price  \n",
       "0        10:00:00    2016-03-29           4        97200  \n",
       "1        11:30:00    2016-07-21           2        20600  \n",
       "2        09:00:00    2016-10-22           2        33600  \n",
       "3        11:00:00    2017-03-30           4       194400  \n",
       "4        10:30:00    2017-09-23           3        68100  \n",
       "...           ...           ...         ...          ...  \n",
       "4025     09:30:00    2017-07-11           2        16000  \n",
       "4026     10:30:00    2017-10-10           2        41800  \n",
       "4027     11:30:00    2018-04-04           2        74800  \n",
       "4028     09:30:00    2016-05-13           4       540000  \n",
       "4029     09:00:00    2016-07-09           1        44100  \n",
       "\n",
       "[4030 rows x 9 columns]"
      ],
      "text/html": "<div>\n<style scoped>\n    .dataframe tbody tr th:only-of-type {\n        vertical-align: middle;\n    }\n\n    .dataframe tbody tr th {\n        vertical-align: top;\n    }\n\n    .dataframe thead th {\n        text-align: right;\n    }\n</style>\n<table border=\"1\" class=\"dataframe\">\n  <thead>\n    <tr style=\"text-align: right;\">\n      <th></th>\n      <th>reserve_id</th>\n      <th>hotel_id</th>\n      <th>customer_id</th>\n      <th>reserve_datetime</th>\n      <th>checkin_date</th>\n      <th>checkin_time</th>\n      <th>checkout_date</th>\n      <th>people_num</th>\n      <th>total_price</th>\n    </tr>\n  </thead>\n  <tbody>\n    <tr>\n      <th>0</th>\n      <td>r1</td>\n      <td>h_75</td>\n      <td>c_1</td>\n      <td>2016-03-07 13:09:42</td>\n      <td>2016-03-26</td>\n      <td>10:00:00</td>\n      <td>2016-03-29</td>\n      <td>4</td>\n      <td>97200</td>\n    </tr>\n    <tr>\n      <th>1</th>\n      <td>r2</td>\n      <td>h_219</td>\n      <td>c_1</td>\n      <td>2016-07-17 23:39:55</td>\n      <td>2016-07-20</td>\n      <td>11:30:00</td>\n      <td>2016-07-21</td>\n      <td>2</td>\n      <td>20600</td>\n    </tr>\n    <tr>\n      <th>2</th>\n      <td>r3</td>\n      <td>h_179</td>\n      <td>c_1</td>\n      <td>2016-09-25 10:03:17</td>\n      <td>2016-10-19</td>\n      <td>09:00:00</td>\n      <td>2016-10-22</td>\n      <td>2</td>\n      <td>33600</td>\n    </tr>\n    <tr>\n      <th>3</th>\n      <td>r4</td>\n      <td>h_214</td>\n      <td>c_1</td>\n      <td>2017-03-09 03:20:10</td>\n      <td>2017-03-29</td>\n      <td>11:00:00</td>\n      <td>2017-03-30</td>\n      <td>4</td>\n      <td>194400</td>\n    </tr>\n    <tr>\n      <th>4</th>\n      <td>r5</td>\n      <td>h_16</td>\n      <td>c_1</td>\n      <td>2017-09-06 19:50:37</td>\n      <td>2017-09-22</td>\n      <td>10:30:00</td>\n      <td>2017-09-23</td>\n      <td>3</td>\n      <td>68100</td>\n    </tr>\n    <tr>\n      <th>...</th>\n      <td>...</td>\n      <td>...</td>\n      <td>...</td>\n      <td>...</td>\n      <td>...</td>\n      <td>...</td>\n      <td>...</td>\n      <td>...</td>\n      <td>...</td>\n    </tr>\n    <tr>\n      <th>4025</th>\n      <td>r4026</td>\n      <td>h_129</td>\n      <td>c_999</td>\n      <td>2017-06-28 23:00:02</td>\n      <td>2017-07-10</td>\n      <td>09:30:00</td>\n      <td>2017-07-11</td>\n      <td>2</td>\n      <td>16000</td>\n    </tr>\n    <tr>\n      <th>4026</th>\n      <td>r4027</td>\n      <td>h_97</td>\n      <td>c_999</td>\n      <td>2017-09-30 05:24:57</td>\n      <td>2017-10-09</td>\n      <td>10:30:00</td>\n      <td>2017-10-10</td>\n      <td>2</td>\n      <td>41800</td>\n    </tr>\n    <tr>\n      <th>4027</th>\n      <td>r4028</td>\n      <td>h_27</td>\n      <td>c_999</td>\n      <td>2018-03-15 05:01:45</td>\n      <td>2018-04-02</td>\n      <td>11:30:00</td>\n      <td>2018-04-04</td>\n      <td>2</td>\n      <td>74800</td>\n    </tr>\n    <tr>\n      <th>4028</th>\n      <td>r4029</td>\n      <td>h_48</td>\n      <td>c_1000</td>\n      <td>2016-04-17 15:20:17</td>\n      <td>2016-05-10</td>\n      <td>09:30:00</td>\n      <td>2016-05-13</td>\n      <td>4</td>\n      <td>540000</td>\n    </tr>\n    <tr>\n      <th>4029</th>\n      <td>r4030</td>\n      <td>h_117</td>\n      <td>c_1000</td>\n      <td>2016-06-07 08:16:51</td>\n      <td>2016-07-06</td>\n      <td>09:00:00</td>\n      <td>2016-07-09</td>\n      <td>1</td>\n      <td>44100</td>\n    </tr>\n  </tbody>\n</table>\n<p>4030 rows × 9 columns</p>\n</div>"
     },
     "metadata": {},
     "execution_count": 26
    }
   ],
   "source": [
    "reserve_tb"
   ]
  },
  {
   "cell_type": "code",
   "execution_count": 27,
   "metadata": {},
   "outputs": [
    {
     "output_type": "execute_result",
     "data": {
      "text/plain": [
       "reserve_id                  object\n",
       "hotel_id                    object\n",
       "customer_id                 object\n",
       "reserve_datetime    datetime64[ns]\n",
       "checkin_date        datetime64[ns]\n",
       "checkin_time                object\n",
       "checkout_date               object\n",
       "people_num                   int64\n",
       "total_price                  int64\n",
       "dtype: object"
      ]
     },
     "metadata": {},
     "execution_count": 27
    }
   ],
   "source": [
    "import datetime\n",
    "reserve_tb.dtypes"
   ]
  },
  {
   "cell_type": "code",
   "execution_count": 28,
   "metadata": {},
   "outputs": [],
   "source": [
    "reserve_tb['reserve_datetime_1d'] = reserve_tb['reserve_datetime'] + datetime.timedelta(days =1)"
   ]
  },
  {
   "cell_type": "code",
   "execution_count": 29,
   "metadata": {},
   "outputs": [
    {
     "output_type": "execute_result",
     "data": {
      "text/plain": [
       "     reserve_id hotel_id customer_id    reserve_datetime checkin_date  \\\n",
       "0            r1     h_75         c_1 2016-03-07 13:09:42   2016-03-26   \n",
       "1            r2    h_219         c_1 2016-07-17 23:39:55   2016-07-20   \n",
       "2            r3    h_179         c_1 2016-09-25 10:03:17   2016-10-19   \n",
       "3            r4    h_214         c_1 2017-03-09 03:20:10   2017-03-29   \n",
       "4            r5     h_16         c_1 2017-09-06 19:50:37   2017-09-22   \n",
       "...         ...      ...         ...                 ...          ...   \n",
       "4025      r4026    h_129       c_999 2017-06-28 23:00:02   2017-07-10   \n",
       "4026      r4027     h_97       c_999 2017-09-30 05:24:57   2017-10-09   \n",
       "4027      r4028     h_27       c_999 2018-03-15 05:01:45   2018-04-02   \n",
       "4028      r4029     h_48      c_1000 2016-04-17 15:20:17   2016-05-10   \n",
       "4029      r4030    h_117      c_1000 2016-06-07 08:16:51   2016-07-06   \n",
       "\n",
       "     checkin_time checkout_date  people_num  total_price reserve_datetime_1d  \n",
       "0        10:00:00    2016-03-29           4        97200 2016-03-08 13:09:42  \n",
       "1        11:30:00    2016-07-21           2        20600 2016-07-18 23:39:55  \n",
       "2        09:00:00    2016-10-22           2        33600 2016-09-26 10:03:17  \n",
       "3        11:00:00    2017-03-30           4       194400 2017-03-10 03:20:10  \n",
       "4        10:30:00    2017-09-23           3        68100 2017-09-07 19:50:37  \n",
       "...           ...           ...         ...          ...                 ...  \n",
       "4025     09:30:00    2017-07-11           2        16000 2017-06-29 23:00:02  \n",
       "4026     10:30:00    2017-10-10           2        41800 2017-10-01 05:24:57  \n",
       "4027     11:30:00    2018-04-04           2        74800 2018-03-16 05:01:45  \n",
       "4028     09:30:00    2016-05-13           4       540000 2016-04-18 15:20:17  \n",
       "4029     09:00:00    2016-07-09           1        44100 2016-06-08 08:16:51  \n",
       "\n",
       "[4030 rows x 10 columns]"
      ],
      "text/html": "<div>\n<style scoped>\n    .dataframe tbody tr th:only-of-type {\n        vertical-align: middle;\n    }\n\n    .dataframe tbody tr th {\n        vertical-align: top;\n    }\n\n    .dataframe thead th {\n        text-align: right;\n    }\n</style>\n<table border=\"1\" class=\"dataframe\">\n  <thead>\n    <tr style=\"text-align: right;\">\n      <th></th>\n      <th>reserve_id</th>\n      <th>hotel_id</th>\n      <th>customer_id</th>\n      <th>reserve_datetime</th>\n      <th>checkin_date</th>\n      <th>checkin_time</th>\n      <th>checkout_date</th>\n      <th>people_num</th>\n      <th>total_price</th>\n      <th>reserve_datetime_1d</th>\n    </tr>\n  </thead>\n  <tbody>\n    <tr>\n      <th>0</th>\n      <td>r1</td>\n      <td>h_75</td>\n      <td>c_1</td>\n      <td>2016-03-07 13:09:42</td>\n      <td>2016-03-26</td>\n      <td>10:00:00</td>\n      <td>2016-03-29</td>\n      <td>4</td>\n      <td>97200</td>\n      <td>2016-03-08 13:09:42</td>\n    </tr>\n    <tr>\n      <th>1</th>\n      <td>r2</td>\n      <td>h_219</td>\n      <td>c_1</td>\n      <td>2016-07-17 23:39:55</td>\n      <td>2016-07-20</td>\n      <td>11:30:00</td>\n      <td>2016-07-21</td>\n      <td>2</td>\n      <td>20600</td>\n      <td>2016-07-18 23:39:55</td>\n    </tr>\n    <tr>\n      <th>2</th>\n      <td>r3</td>\n      <td>h_179</td>\n      <td>c_1</td>\n      <td>2016-09-25 10:03:17</td>\n      <td>2016-10-19</td>\n      <td>09:00:00</td>\n      <td>2016-10-22</td>\n      <td>2</td>\n      <td>33600</td>\n      <td>2016-09-26 10:03:17</td>\n    </tr>\n    <tr>\n      <th>3</th>\n      <td>r4</td>\n      <td>h_214</td>\n      <td>c_1</td>\n      <td>2017-03-09 03:20:10</td>\n      <td>2017-03-29</td>\n      <td>11:00:00</td>\n      <td>2017-03-30</td>\n      <td>4</td>\n      <td>194400</td>\n      <td>2017-03-10 03:20:10</td>\n    </tr>\n    <tr>\n      <th>4</th>\n      <td>r5</td>\n      <td>h_16</td>\n      <td>c_1</td>\n      <td>2017-09-06 19:50:37</td>\n      <td>2017-09-22</td>\n      <td>10:30:00</td>\n      <td>2017-09-23</td>\n      <td>3</td>\n      <td>68100</td>\n      <td>2017-09-07 19:50:37</td>\n    </tr>\n    <tr>\n      <th>...</th>\n      <td>...</td>\n      <td>...</td>\n      <td>...</td>\n      <td>...</td>\n      <td>...</td>\n      <td>...</td>\n      <td>...</td>\n      <td>...</td>\n      <td>...</td>\n      <td>...</td>\n    </tr>\n    <tr>\n      <th>4025</th>\n      <td>r4026</td>\n      <td>h_129</td>\n      <td>c_999</td>\n      <td>2017-06-28 23:00:02</td>\n      <td>2017-07-10</td>\n      <td>09:30:00</td>\n      <td>2017-07-11</td>\n      <td>2</td>\n      <td>16000</td>\n      <td>2017-06-29 23:00:02</td>\n    </tr>\n    <tr>\n      <th>4026</th>\n      <td>r4027</td>\n      <td>h_97</td>\n      <td>c_999</td>\n      <td>2017-09-30 05:24:57</td>\n      <td>2017-10-09</td>\n      <td>10:30:00</td>\n      <td>2017-10-10</td>\n      <td>2</td>\n      <td>41800</td>\n      <td>2017-10-01 05:24:57</td>\n    </tr>\n    <tr>\n      <th>4027</th>\n      <td>r4028</td>\n      <td>h_27</td>\n      <td>c_999</td>\n      <td>2018-03-15 05:01:45</td>\n      <td>2018-04-02</td>\n      <td>11:30:00</td>\n      <td>2018-04-04</td>\n      <td>2</td>\n      <td>74800</td>\n      <td>2018-03-16 05:01:45</td>\n    </tr>\n    <tr>\n      <th>4028</th>\n      <td>r4029</td>\n      <td>h_48</td>\n      <td>c_1000</td>\n      <td>2016-04-17 15:20:17</td>\n      <td>2016-05-10</td>\n      <td>09:30:00</td>\n      <td>2016-05-13</td>\n      <td>4</td>\n      <td>540000</td>\n      <td>2016-04-18 15:20:17</td>\n    </tr>\n    <tr>\n      <th>4029</th>\n      <td>r4030</td>\n      <td>h_117</td>\n      <td>c_1000</td>\n      <td>2016-06-07 08:16:51</td>\n      <td>2016-07-06</td>\n      <td>09:00:00</td>\n      <td>2016-07-09</td>\n      <td>1</td>\n      <td>44100</td>\n      <td>2016-06-08 08:16:51</td>\n    </tr>\n  </tbody>\n</table>\n<p>4030 rows × 10 columns</p>\n</div>"
     },
     "metadata": {},
     "execution_count": 29
    }
   ],
   "source": [
    "reserve_tb"
   ]
  },
  {
   "cell_type": "code",
   "execution_count": 12,
   "metadata": {},
   "outputs": [],
   "source": [
    "reserve_tb = reserve_tb[(abs(reserve_tb['total_price']-np.mean(reserve_tb['total_price']))/np.std(reserve_tb['total_price']))<=3].reset_index()"
   ]
  },
  {
   "cell_type": "code",
   "execution_count": 31,
   "metadata": {},
   "outputs": [
    {
     "output_type": "execute_result",
     "data": {
      "text/plain": [
       "reserve_id                     object\n",
       "hotel_id                       object\n",
       "customer_id                    object\n",
       "reserve_datetime       datetime64[ns]\n",
       "checkin_date           datetime64[ns]\n",
       "checkin_time                   object\n",
       "checkout_date                  object\n",
       "people_num                      int64\n",
       "total_price                     int64\n",
       "reserve_datetime_1d    datetime64[ns]\n",
       "dtype: object"
      ]
     },
     "metadata": {},
     "execution_count": 31
    }
   ],
   "source": [
    "reserve_tb.dtypes"
   ]
  },
  {
   "cell_type": "code",
   "execution_count": 32,
   "metadata": {},
   "outputs": [],
   "source": [
    "def to_season(month):\n",
    "    season = 'winter'\n",
    "    if 3<=month<=5:\n",
    "        season='spring'\n",
    "    elif 6<=month<=8:\n",
    "        season='summer'\n",
    "    elif 9<=month<=11:\n",
    "        season='fall'\n",
    "    return season\n"
   ]
  },
  {
   "cell_type": "code",
   "execution_count": 36,
   "metadata": {},
   "outputs": [],
   "source": [
    "reserve_tb['season'] = reserve_tb['reserve_datetime'].dt.month.apply(to_season)"
   ]
  },
  {
   "cell_type": "code",
   "execution_count": 37,
   "metadata": {},
   "outputs": [
    {
     "output_type": "execute_result",
     "data": {
      "text/plain": [
       "     reserve_id hotel_id customer_id    reserve_datetime checkin_date  \\\n",
       "0            r1     h_75         c_1 2016-03-07 13:09:42   2016-03-26   \n",
       "1            r2    h_219         c_1 2016-07-17 23:39:55   2016-07-20   \n",
       "2            r3    h_179         c_1 2016-09-25 10:03:17   2016-10-19   \n",
       "3            r4    h_214         c_1 2017-03-09 03:20:10   2017-03-29   \n",
       "4            r5     h_16         c_1 2017-09-06 19:50:37   2017-09-22   \n",
       "...         ...      ...         ...                 ...          ...   \n",
       "4025      r4026    h_129       c_999 2017-06-28 23:00:02   2017-07-10   \n",
       "4026      r4027     h_97       c_999 2017-09-30 05:24:57   2017-10-09   \n",
       "4027      r4028     h_27       c_999 2018-03-15 05:01:45   2018-04-02   \n",
       "4028      r4029     h_48      c_1000 2016-04-17 15:20:17   2016-05-10   \n",
       "4029      r4030    h_117      c_1000 2016-06-07 08:16:51   2016-07-06   \n",
       "\n",
       "     checkin_time checkout_date  people_num  total_price reserve_datetime_1d  \\\n",
       "0        10:00:00    2016-03-29           4        97200 2016-03-08 13:09:42   \n",
       "1        11:30:00    2016-07-21           2        20600 2016-07-18 23:39:55   \n",
       "2        09:00:00    2016-10-22           2        33600 2016-09-26 10:03:17   \n",
       "3        11:00:00    2017-03-30           4       194400 2017-03-10 03:20:10   \n",
       "4        10:30:00    2017-09-23           3        68100 2017-09-07 19:50:37   \n",
       "...           ...           ...         ...          ...                 ...   \n",
       "4025     09:30:00    2017-07-11           2        16000 2017-06-29 23:00:02   \n",
       "4026     10:30:00    2017-10-10           2        41800 2017-10-01 05:24:57   \n",
       "4027     11:30:00    2018-04-04           2        74800 2018-03-16 05:01:45   \n",
       "4028     09:30:00    2016-05-13           4       540000 2016-04-18 15:20:17   \n",
       "4029     09:00:00    2016-07-09           1        44100 2016-06-08 08:16:51   \n",
       "\n",
       "      season  \n",
       "0     spring  \n",
       "1     summer  \n",
       "2       fall  \n",
       "3     spring  \n",
       "4       fall  \n",
       "...      ...  \n",
       "4025  summer  \n",
       "4026    fall  \n",
       "4027  spring  \n",
       "4028  spring  \n",
       "4029  summer  \n",
       "\n",
       "[4030 rows x 11 columns]"
      ],
      "text/html": "<div>\n<style scoped>\n    .dataframe tbody tr th:only-of-type {\n        vertical-align: middle;\n    }\n\n    .dataframe tbody tr th {\n        vertical-align: top;\n    }\n\n    .dataframe thead th {\n        text-align: right;\n    }\n</style>\n<table border=\"1\" class=\"dataframe\">\n  <thead>\n    <tr style=\"text-align: right;\">\n      <th></th>\n      <th>reserve_id</th>\n      <th>hotel_id</th>\n      <th>customer_id</th>\n      <th>reserve_datetime</th>\n      <th>checkin_date</th>\n      <th>checkin_time</th>\n      <th>checkout_date</th>\n      <th>people_num</th>\n      <th>total_price</th>\n      <th>reserve_datetime_1d</th>\n      <th>season</th>\n    </tr>\n  </thead>\n  <tbody>\n    <tr>\n      <th>0</th>\n      <td>r1</td>\n      <td>h_75</td>\n      <td>c_1</td>\n      <td>2016-03-07 13:09:42</td>\n      <td>2016-03-26</td>\n      <td>10:00:00</td>\n      <td>2016-03-29</td>\n      <td>4</td>\n      <td>97200</td>\n      <td>2016-03-08 13:09:42</td>\n      <td>spring</td>\n    </tr>\n    <tr>\n      <th>1</th>\n      <td>r2</td>\n      <td>h_219</td>\n      <td>c_1</td>\n      <td>2016-07-17 23:39:55</td>\n      <td>2016-07-20</td>\n      <td>11:30:00</td>\n      <td>2016-07-21</td>\n      <td>2</td>\n      <td>20600</td>\n      <td>2016-07-18 23:39:55</td>\n      <td>summer</td>\n    </tr>\n    <tr>\n      <th>2</th>\n      <td>r3</td>\n      <td>h_179</td>\n      <td>c_1</td>\n      <td>2016-09-25 10:03:17</td>\n      <td>2016-10-19</td>\n      <td>09:00:00</td>\n      <td>2016-10-22</td>\n      <td>2</td>\n      <td>33600</td>\n      <td>2016-09-26 10:03:17</td>\n      <td>fall</td>\n    </tr>\n    <tr>\n      <th>3</th>\n      <td>r4</td>\n      <td>h_214</td>\n      <td>c_1</td>\n      <td>2017-03-09 03:20:10</td>\n      <td>2017-03-29</td>\n      <td>11:00:00</td>\n      <td>2017-03-30</td>\n      <td>4</td>\n      <td>194400</td>\n      <td>2017-03-10 03:20:10</td>\n      <td>spring</td>\n    </tr>\n    <tr>\n      <th>4</th>\n      <td>r5</td>\n      <td>h_16</td>\n      <td>c_1</td>\n      <td>2017-09-06 19:50:37</td>\n      <td>2017-09-22</td>\n      <td>10:30:00</td>\n      <td>2017-09-23</td>\n      <td>3</td>\n      <td>68100</td>\n      <td>2017-09-07 19:50:37</td>\n      <td>fall</td>\n    </tr>\n    <tr>\n      <th>...</th>\n      <td>...</td>\n      <td>...</td>\n      <td>...</td>\n      <td>...</td>\n      <td>...</td>\n      <td>...</td>\n      <td>...</td>\n      <td>...</td>\n      <td>...</td>\n      <td>...</td>\n      <td>...</td>\n    </tr>\n    <tr>\n      <th>4025</th>\n      <td>r4026</td>\n      <td>h_129</td>\n      <td>c_999</td>\n      <td>2017-06-28 23:00:02</td>\n      <td>2017-07-10</td>\n      <td>09:30:00</td>\n      <td>2017-07-11</td>\n      <td>2</td>\n      <td>16000</td>\n      <td>2017-06-29 23:00:02</td>\n      <td>summer</td>\n    </tr>\n    <tr>\n      <th>4026</th>\n      <td>r4027</td>\n      <td>h_97</td>\n      <td>c_999</td>\n      <td>2017-09-30 05:24:57</td>\n      <td>2017-10-09</td>\n      <td>10:30:00</td>\n      <td>2017-10-10</td>\n      <td>2</td>\n      <td>41800</td>\n      <td>2017-10-01 05:24:57</td>\n      <td>fall</td>\n    </tr>\n    <tr>\n      <th>4027</th>\n      <td>r4028</td>\n      <td>h_27</td>\n      <td>c_999</td>\n      <td>2018-03-15 05:01:45</td>\n      <td>2018-04-02</td>\n      <td>11:30:00</td>\n      <td>2018-04-04</td>\n      <td>2</td>\n      <td>74800</td>\n      <td>2018-03-16 05:01:45</td>\n      <td>spring</td>\n    </tr>\n    <tr>\n      <th>4028</th>\n      <td>r4029</td>\n      <td>h_48</td>\n      <td>c_1000</td>\n      <td>2016-04-17 15:20:17</td>\n      <td>2016-05-10</td>\n      <td>09:30:00</td>\n      <td>2016-05-13</td>\n      <td>4</td>\n      <td>540000</td>\n      <td>2016-04-18 15:20:17</td>\n      <td>spring</td>\n    </tr>\n    <tr>\n      <th>4029</th>\n      <td>r4030</td>\n      <td>h_117</td>\n      <td>c_1000</td>\n      <td>2016-06-07 08:16:51</td>\n      <td>2016-07-06</td>\n      <td>09:00:00</td>\n      <td>2016-07-09</td>\n      <td>1</td>\n      <td>44100</td>\n      <td>2016-06-08 08:16:51</td>\n      <td>summer</td>\n    </tr>\n  </tbody>\n</table>\n<p>4030 rows × 11 columns</p>\n</div>"
     },
     "metadata": {},
     "execution_count": 37
    }
   ],
   "source": [
    "reserve_tb"
   ]
  },
  {
   "cell_type": "code",
   "execution_count": null,
   "metadata": {},
   "outputs": [],
   "source": []
  }
 ]
}