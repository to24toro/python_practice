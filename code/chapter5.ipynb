{
 "metadata": {
  "language_info": {
   "codemirror_mode": {
    "name": "ipython",
    "version": 3
   },
   "file_extension": ".py",
   "mimetype": "text/x-python",
   "name": "python",
   "nbconvert_exporter": "python",
   "pygments_lexer": "ipython3",
   "version": "3.9.4"
  },
  "orig_nbformat": 2,
  "kernelspec": {
   "name": "python394jvsc74a57bd03c85ce8d5b7e180214ae83dea4d679439631f19c08b22e937e77ad215cbb97c9",
   "display_name": "Python 3.9.4 64-bit"
  },
  "metadata": {
   "interpreter": {
    "hash": "3c85ce8d5b7e180214ae83dea4d679439631f19c08b22e937e77ad215cbb97c9"
   }
  }
 },
 "nbformat": 4,
 "nbformat_minor": 2,
 "cells": [
  {
   "cell_type": "code",
   "execution_count": 2,
   "metadata": {},
   "outputs": [],
   "source": [
    "import pandas as pd\n",
    "import numpy as np\n",
    "from sklearn.model_selection import train_test_split\n",
    "from sklearn.model_selection import KFold\n",
    "reserve_tb = pd.read_csv(\"../awesomebook/data/reserve.csv\")\n",
    "production_tb = pd.read_csv(\"../awesomebook/data/production.csv\")"
   ]
  },
  {
   "cell_type": "code",
   "execution_count": 3,
   "metadata": {},
   "outputs": [],
   "source": [
    "train_data,test_data,train_target,test_target = train_test_split(production_tb.drop('fault_flg',axis=1),production_tb[['fault_flg']],test_size=0.2)"
   ]
  },
  {
   "cell_type": "code",
   "execution_count": 4,
   "metadata": {},
   "outputs": [],
   "source": [
    "train_data.reset_index(inplace=True,drop=True)\n",
    "test_data.reset_index(inplace=True,drop=True)\n",
    "train_target.reset_index(inplace=True,drop=True)\n",
    "train_target.reset_index(inplace=True,drop=True)"
   ]
  },
  {
   "cell_type": "code",
   "execution_count": 5,
   "metadata": {},
   "outputs": [],
   "source": [
    "row_no_list = list(range(len(train_data)))\n",
    "k_fold = KFold(n_splits=4,shuffle=True)"
   ]
  },
  {
   "cell_type": "code",
   "execution_count": 7,
   "metadata": {},
   "outputs": [],
   "source": [
    "for train_cv_no,test_cv_no in k_fold.split(row_no_list):\n",
    "    train_cv = train_data.iloc[train_cv_no,:]\n",
    "    test_cv = train_data.iloc[test_cv_no,:]\n"
   ]
  },
  {
   "cell_type": "code",
   "execution_count": 9,
   "metadata": {},
   "outputs": [],
   "source": [
    "monthly_index_tb = pd.read_csv(\"../awesomebook/data/monthly_index.csv\")"
   ]
  },
  {
   "cell_type": "code",
   "execution_count": 12,
   "metadata": {},
   "outputs": [
    {
     "output_type": "execute_result",
     "data": {
      "text/plain": [
       "    year_month  sales_amount  customer_number\n",
       "0      2010-01       7191240             6885\n",
       "1      2010-02       6253663             6824\n",
       "2      2010-03       6868320             7834\n",
       "3      2010-04       7147388             8552\n",
       "4      2010-05       8755929             8171\n",
       "..         ...           ...              ...\n",
       "115    2019-08      80528792            97059\n",
       "116    2019-09      90191653            86560\n",
       "117    2019-10      95749954            99507\n",
       "118    2019-11      86998004            85215\n",
       "119    2019-12     104401092            93620\n",
       "\n",
       "[120 rows x 3 columns]"
      ],
      "text/html": "<div>\n<style scoped>\n    .dataframe tbody tr th:only-of-type {\n        vertical-align: middle;\n    }\n\n    .dataframe tbody tr th {\n        vertical-align: top;\n    }\n\n    .dataframe thead th {\n        text-align: right;\n    }\n</style>\n<table border=\"1\" class=\"dataframe\">\n  <thead>\n    <tr style=\"text-align: right;\">\n      <th></th>\n      <th>year_month</th>\n      <th>sales_amount</th>\n      <th>customer_number</th>\n    </tr>\n  </thead>\n  <tbody>\n    <tr>\n      <th>0</th>\n      <td>2010-01</td>\n      <td>7191240</td>\n      <td>6885</td>\n    </tr>\n    <tr>\n      <th>1</th>\n      <td>2010-02</td>\n      <td>6253663</td>\n      <td>6824</td>\n    </tr>\n    <tr>\n      <th>2</th>\n      <td>2010-03</td>\n      <td>6868320</td>\n      <td>7834</td>\n    </tr>\n    <tr>\n      <th>3</th>\n      <td>2010-04</td>\n      <td>7147388</td>\n      <td>8552</td>\n    </tr>\n    <tr>\n      <th>4</th>\n      <td>2010-05</td>\n      <td>8755929</td>\n      <td>8171</td>\n    </tr>\n    <tr>\n      <th>...</th>\n      <td>...</td>\n      <td>...</td>\n      <td>...</td>\n    </tr>\n    <tr>\n      <th>115</th>\n      <td>2019-08</td>\n      <td>80528792</td>\n      <td>97059</td>\n    </tr>\n    <tr>\n      <th>116</th>\n      <td>2019-09</td>\n      <td>90191653</td>\n      <td>86560</td>\n    </tr>\n    <tr>\n      <th>117</th>\n      <td>2019-10</td>\n      <td>95749954</td>\n      <td>99507</td>\n    </tr>\n    <tr>\n      <th>118</th>\n      <td>2019-11</td>\n      <td>86998004</td>\n      <td>85215</td>\n    </tr>\n    <tr>\n      <th>119</th>\n      <td>2019-12</td>\n      <td>104401092</td>\n      <td>93620</td>\n    </tr>\n  </tbody>\n</table>\n<p>120 rows × 3 columns</p>\n</div>"
     },
     "metadata": {},
     "execution_count": 12
    }
   ],
   "source": [
    "monthly_index_tb.sort_values(by = 'year_month')"
   ]
  },
  {
   "cell_type": "code",
   "execution_count": 13,
   "metadata": {},
   "outputs": [],
   "source": [
    "train_window_start = 1\n",
    "train_window_end = 24\n",
    "horizon = 12\n",
    "skip = 12\n",
    "while True:\n",
    "    test_window_end = train_window_end+horizon\n",
    "    train = monthly_index_tb[train_window_start:train_window_end]\n",
    "    test = monthly_index_tb[(train_window_end+1):test_window_end]\n",
    "    if test_window_end>=len(monthly_index_tb):\n",
    "        break\n",
    "    train_window_start+=skip\n",
    "    train_window_end += skip"
   ]
  },
  {
   "cell_type": "code",
   "execution_count": 14,
   "metadata": {},
   "outputs": [],
   "source": [
    "#sklearnのTimeSeriesSplitもよい"
   ]
  },
  {
   "cell_type": "code",
   "execution_count": null,
   "metadata": {},
   "outputs": [],
   "source": []
  }
 ]
}